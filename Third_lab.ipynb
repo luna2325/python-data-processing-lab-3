{
 "cells": [
  {
   "cell_type": "code",
   "execution_count": 30,
   "id": "f364dabe",
   "metadata": {},
   "outputs": [],
   "source": [
    "import numpy as np\n",
    "import pandas as pd\n",
    "import plotly.express as px\n",
    "import matplotlib.pyplot as plt"
   ]
  },
  {
   "cell_type": "code",
   "execution_count": 64,
   "id": "07832869",
   "metadata": {},
   "outputs": [],
   "source": [
    "pd.options.display.float_format = '{:.3f}'.format"
   ]
  },
  {
   "cell_type": "markdown",
   "id": "7fbea352",
   "metadata": {},
   "source": [
    "#### Task 1: \n",
    "Load the energy data from the file “En_In.xls”, which is a list of indicators of energy supply and renewable electricity production, and put into a DataFrame."
   ]
  },
  {
   "cell_type": "code",
   "execution_count": 65,
   "id": "74bcf132",
   "metadata": {},
   "outputs": [],
   "source": [
    "df = pd.read_excel(\"En_In.xls\")\n",
    "df1 = df.iloc[17:282]\n",
    "data = df1.drop(['Unnamed: 0', 'Unnamed: 1'], axis=1)\n",
    "data.dropna(inplace=True, thresh=2)"
   ]
  },
  {
   "cell_type": "code",
   "execution_count": 66,
   "id": "495366db",
   "metadata": {},
   "outputs": [
    {
     "data": {
      "text/html": [
       "<div>\n",
       "<style scoped>\n",
       "    .dataframe tbody tr th:only-of-type {\n",
       "        vertical-align: middle;\n",
       "    }\n",
       "\n",
       "    .dataframe tbody tr th {\n",
       "        vertical-align: top;\n",
       "    }\n",
       "\n",
       "    .dataframe thead th {\n",
       "        text-align: right;\n",
       "    }\n",
       "</style>\n",
       "<table border=\"1\" class=\"dataframe\">\n",
       "  <thead>\n",
       "    <tr style=\"text-align: right;\">\n",
       "      <th></th>\n",
       "      <th>Country</th>\n",
       "      <th>Energy Supply</th>\n",
       "      <th>Energy Supply per Capita</th>\n",
       "      <th>% Renewable</th>\n",
       "    </tr>\n",
       "  </thead>\n",
       "  <tbody>\n",
       "    <tr>\n",
       "      <th>0</th>\n",
       "      <td>Afghanistan</td>\n",
       "      <td>321</td>\n",
       "      <td>10</td>\n",
       "      <td>78.669</td>\n",
       "    </tr>\n",
       "    <tr>\n",
       "      <th>1</th>\n",
       "      <td>Albania</td>\n",
       "      <td>102</td>\n",
       "      <td>35</td>\n",
       "      <td>100</td>\n",
       "    </tr>\n",
       "    <tr>\n",
       "      <th>2</th>\n",
       "      <td>Algeria</td>\n",
       "      <td>1959</td>\n",
       "      <td>51</td>\n",
       "      <td>0.551</td>\n",
       "    </tr>\n",
       "    <tr>\n",
       "      <th>3</th>\n",
       "      <td>American Samoa</td>\n",
       "      <td>...</td>\n",
       "      <td>...</td>\n",
       "      <td>0.641</td>\n",
       "    </tr>\n",
       "    <tr>\n",
       "      <th>4</th>\n",
       "      <td>Andorra</td>\n",
       "      <td>9</td>\n",
       "      <td>121</td>\n",
       "      <td>88.696</td>\n",
       "    </tr>\n",
       "    <tr>\n",
       "      <th>...</th>\n",
       "      <td>...</td>\n",
       "      <td>...</td>\n",
       "      <td>...</td>\n",
       "      <td>...</td>\n",
       "    </tr>\n",
       "    <tr>\n",
       "      <th>222</th>\n",
       "      <td>Viet Nam</td>\n",
       "      <td>2554</td>\n",
       "      <td>28</td>\n",
       "      <td>45.322</td>\n",
       "    </tr>\n",
       "    <tr>\n",
       "      <th>223</th>\n",
       "      <td>Wallis and Futuna Islands</td>\n",
       "      <td>0</td>\n",
       "      <td>26</td>\n",
       "      <td>0</td>\n",
       "    </tr>\n",
       "    <tr>\n",
       "      <th>224</th>\n",
       "      <td>Yemen</td>\n",
       "      <td>344</td>\n",
       "      <td>13</td>\n",
       "      <td>0</td>\n",
       "    </tr>\n",
       "    <tr>\n",
       "      <th>225</th>\n",
       "      <td>Zambia</td>\n",
       "      <td>400</td>\n",
       "      <td>26</td>\n",
       "      <td>99.715</td>\n",
       "    </tr>\n",
       "    <tr>\n",
       "      <th>226</th>\n",
       "      <td>Zimbabwe</td>\n",
       "      <td>480</td>\n",
       "      <td>32</td>\n",
       "      <td>52.536</td>\n",
       "    </tr>\n",
       "  </tbody>\n",
       "</table>\n",
       "<p>227 rows × 4 columns</p>\n",
       "</div>"
      ],
      "text/plain": [
       "                       Country Energy Supply Energy Supply per Capita  \\\n",
       "0                  Afghanistan           321                       10   \n",
       "1                      Albania           102                       35   \n",
       "2                      Algeria          1959                       51   \n",
       "3               American Samoa           ...                      ...   \n",
       "4                      Andorra             9                      121   \n",
       "..                         ...           ...                      ...   \n",
       "222                   Viet Nam          2554                       28   \n",
       "223  Wallis and Futuna Islands             0                       26   \n",
       "224                      Yemen           344                       13   \n",
       "225                     Zambia           400                       26   \n",
       "226                   Zimbabwe           480                       32   \n",
       "\n",
       "    % Renewable  \n",
       "0        78.669  \n",
       "1           100  \n",
       "2         0.551  \n",
       "3         0.641  \n",
       "4        88.696  \n",
       "..          ...  \n",
       "222      45.322  \n",
       "223           0  \n",
       "224           0  \n",
       "225      99.715  \n",
       "226      52.536  \n",
       "\n",
       "[227 rows x 4 columns]"
      ]
     },
     "execution_count": 66,
     "metadata": {},
     "output_type": "execute_result"
    }
   ],
   "source": [
    "energy_data = data.rename(columns={\"Unnamed: 2\": \"Country\", \"Unnamed: 3\":\"Energy Supply\", \"Unnamed: 4\":\"Energy Supply per Capita\", \"Unnamed: 5\":\"% Renewable\"}).reset_index(drop=True)\n",
    "energy_data"
   ]
  },
  {
   "cell_type": "markdown",
   "id": "f2575bd6",
   "metadata": {},
   "source": [
    "#### Task 2:  \n",
    "Convert ‘Energy Supply’ to gigajoules (Note: there are 1,000,000 gigajoules in a petajoule). For all countries which have missing data (e.g. data with \"...\") make sure this is reflected as np.NaN values."
   ]
  },
  {
   "cell_type": "code",
   "execution_count": 67,
   "id": "a4fe65a9",
   "metadata": {},
   "outputs": [
    {
     "data": {
      "text/html": [
       "<div>\n",
       "<style scoped>\n",
       "    .dataframe tbody tr th:only-of-type {\n",
       "        vertical-align: middle;\n",
       "    }\n",
       "\n",
       "    .dataframe tbody tr th {\n",
       "        vertical-align: top;\n",
       "    }\n",
       "\n",
       "    .dataframe thead th {\n",
       "        text-align: right;\n",
       "    }\n",
       "</style>\n",
       "<table border=\"1\" class=\"dataframe\">\n",
       "  <thead>\n",
       "    <tr style=\"text-align: right;\">\n",
       "      <th></th>\n",
       "      <th>Country</th>\n",
       "      <th>Energy Supply</th>\n",
       "      <th>Energy Supply per Capita</th>\n",
       "      <th>% Renewable</th>\n",
       "    </tr>\n",
       "  </thead>\n",
       "  <tbody>\n",
       "    <tr>\n",
       "      <th>0</th>\n",
       "      <td>Afghanistan</td>\n",
       "      <td>321000000.000</td>\n",
       "      <td>10.000</td>\n",
       "      <td>78.669</td>\n",
       "    </tr>\n",
       "    <tr>\n",
       "      <th>1</th>\n",
       "      <td>Albania</td>\n",
       "      <td>102000000.000</td>\n",
       "      <td>35.000</td>\n",
       "      <td>100.000</td>\n",
       "    </tr>\n",
       "    <tr>\n",
       "      <th>2</th>\n",
       "      <td>Algeria</td>\n",
       "      <td>1959000000.000</td>\n",
       "      <td>51.000</td>\n",
       "      <td>0.551</td>\n",
       "    </tr>\n",
       "    <tr>\n",
       "      <th>3</th>\n",
       "      <td>American Samoa</td>\n",
       "      <td>NaN</td>\n",
       "      <td>NaN</td>\n",
       "      <td>0.641</td>\n",
       "    </tr>\n",
       "    <tr>\n",
       "      <th>4</th>\n",
       "      <td>Andorra</td>\n",
       "      <td>9000000.000</td>\n",
       "      <td>121.000</td>\n",
       "      <td>88.696</td>\n",
       "    </tr>\n",
       "    <tr>\n",
       "      <th>...</th>\n",
       "      <td>...</td>\n",
       "      <td>...</td>\n",
       "      <td>...</td>\n",
       "      <td>...</td>\n",
       "    </tr>\n",
       "    <tr>\n",
       "      <th>222</th>\n",
       "      <td>Viet Nam</td>\n",
       "      <td>2554000000.000</td>\n",
       "      <td>28.000</td>\n",
       "      <td>45.322</td>\n",
       "    </tr>\n",
       "    <tr>\n",
       "      <th>223</th>\n",
       "      <td>Wallis and Futuna Islands</td>\n",
       "      <td>0.000</td>\n",
       "      <td>26.000</td>\n",
       "      <td>0.000</td>\n",
       "    </tr>\n",
       "    <tr>\n",
       "      <th>224</th>\n",
       "      <td>Yemen</td>\n",
       "      <td>344000000.000</td>\n",
       "      <td>13.000</td>\n",
       "      <td>0.000</td>\n",
       "    </tr>\n",
       "    <tr>\n",
       "      <th>225</th>\n",
       "      <td>Zambia</td>\n",
       "      <td>400000000.000</td>\n",
       "      <td>26.000</td>\n",
       "      <td>99.715</td>\n",
       "    </tr>\n",
       "    <tr>\n",
       "      <th>226</th>\n",
       "      <td>Zimbabwe</td>\n",
       "      <td>480000000.000</td>\n",
       "      <td>32.000</td>\n",
       "      <td>52.536</td>\n",
       "    </tr>\n",
       "  </tbody>\n",
       "</table>\n",
       "<p>227 rows × 4 columns</p>\n",
       "</div>"
      ],
      "text/plain": [
       "                       Country  Energy Supply  Energy Supply per Capita  \\\n",
       "0                  Afghanistan  321000000.000                    10.000   \n",
       "1                      Albania  102000000.000                    35.000   \n",
       "2                      Algeria 1959000000.000                    51.000   \n",
       "3               American Samoa            NaN                       NaN   \n",
       "4                      Andorra    9000000.000                   121.000   \n",
       "..                         ...            ...                       ...   \n",
       "222                   Viet Nam 2554000000.000                    28.000   \n",
       "223  Wallis and Futuna Islands          0.000                    26.000   \n",
       "224                      Yemen  344000000.000                    13.000   \n",
       "225                     Zambia  400000000.000                    26.000   \n",
       "226                   Zimbabwe  480000000.000                    32.000   \n",
       "\n",
       "     % Renewable  \n",
       "0         78.669  \n",
       "1        100.000  \n",
       "2          0.551  \n",
       "3          0.641  \n",
       "4         88.696  \n",
       "..           ...  \n",
       "222       45.322  \n",
       "223        0.000  \n",
       "224        0.000  \n",
       "225       99.715  \n",
       "226       52.536  \n",
       "\n",
       "[227 rows x 4 columns]"
      ]
     },
     "execution_count": 67,
     "metadata": {},
     "output_type": "execute_result"
    }
   ],
   "source": [
    "energy_data.replace('...', np.nan, inplace=True)\n",
    "energy_data['Energy Supply'] = pd.to_numeric(energy_data['Energy Supply'])\n",
    "energy_data['Energy Supply'] = energy_data['Energy Supply'] * 1000000\n",
    "energy_data"
   ]
  },
  {
   "cell_type": "markdown",
   "id": "05d2c2e5",
   "metadata": {},
   "source": [
    "#### Task 3:  \n",
    "There are several countries with numbers and/or parenthesis in their name. Be sure to remove these, e.g. 'Bolivia (Plurinational State of)' should be ‘Bolivia’, ‘Switzerland17’ should be Switzerland’."
   ]
  },
  {
   "cell_type": "code",
   "execution_count": 68,
   "id": "6aa1ac57",
   "metadata": {},
   "outputs": [
    {
     "data": {
      "text/html": [
       "<div>\n",
       "<style scoped>\n",
       "    .dataframe tbody tr th:only-of-type {\n",
       "        vertical-align: middle;\n",
       "    }\n",
       "\n",
       "    .dataframe tbody tr th {\n",
       "        vertical-align: top;\n",
       "    }\n",
       "\n",
       "    .dataframe thead th {\n",
       "        text-align: right;\n",
       "    }\n",
       "</style>\n",
       "<table border=\"1\" class=\"dataframe\">\n",
       "  <thead>\n",
       "    <tr style=\"text-align: right;\">\n",
       "      <th></th>\n",
       "      <th>Country</th>\n",
       "      <th>Energy Supply</th>\n",
       "      <th>Energy Supply per Capita</th>\n",
       "      <th>% Renewable</th>\n",
       "    </tr>\n",
       "  </thead>\n",
       "  <tbody>\n",
       "    <tr>\n",
       "      <th>24</th>\n",
       "      <td>Bolivia</td>\n",
       "      <td>336000000.000</td>\n",
       "      <td>32.000</td>\n",
       "      <td>31.477</td>\n",
       "    </tr>\n",
       "    <tr>\n",
       "      <th>25</th>\n",
       "      <td>Bonaire, Sint Eustatius and Saba</td>\n",
       "      <td>5000000.000</td>\n",
       "      <td>213.000</td>\n",
       "      <td>0.000</td>\n",
       "    </tr>\n",
       "    <tr>\n",
       "      <th>26</th>\n",
       "      <td>Bosnia and Herzegovina</td>\n",
       "      <td>266000000.000</td>\n",
       "      <td>70.000</td>\n",
       "      <td>41.465</td>\n",
       "    </tr>\n",
       "  </tbody>\n",
       "</table>\n",
       "</div>"
      ],
      "text/plain": [
       "                             Country  Energy Supply  Energy Supply per Capita  \\\n",
       "24                           Bolivia  336000000.000                    32.000   \n",
       "25  Bonaire, Sint Eustatius and Saba    5000000.000                   213.000   \n",
       "26            Bosnia and Herzegovina  266000000.000                    70.000   \n",
       "\n",
       "    % Renewable  \n",
       "24       31.477  \n",
       "25        0.000  \n",
       "26       41.465  "
      ]
     },
     "execution_count": 68,
     "metadata": {},
     "output_type": "execute_result"
    }
   ],
   "source": [
    "energy_data['Country'] =  energy_data['Country'].str.replace(r'\\([^)]*\\)|\\d', '', regex=True).str.strip()\n",
    "energy_data.iloc[24:27]"
   ]
  },
  {
   "cell_type": "markdown",
   "id": "3d2d3b2e",
   "metadata": {},
   "source": [
    "#### Task 4:  \n",
    "Rename the following list of countries:\n",
    "\"Republic of Korea\": \"South Korea\",\n",
    "\"United States of America\": \"United States\",\n",
    "\"United Kingdom of Great Britain and Northern Ireland\": \"United Kingdom\",\n",
    "\"China, Hong Kong Special Administrative Region\": \"Hong Kong\""
   ]
  },
  {
   "cell_type": "code",
   "execution_count": 69,
   "id": "643154c1",
   "metadata": {},
   "outputs": [
    {
     "data": {
      "text/html": [
       "<div>\n",
       "<style scoped>\n",
       "    .dataframe tbody tr th:only-of-type {\n",
       "        vertical-align: middle;\n",
       "    }\n",
       "\n",
       "    .dataframe tbody tr th {\n",
       "        vertical-align: top;\n",
       "    }\n",
       "\n",
       "    .dataframe thead th {\n",
       "        text-align: right;\n",
       "    }\n",
       "</style>\n",
       "<table border=\"1\" class=\"dataframe\">\n",
       "  <thead>\n",
       "    <tr style=\"text-align: right;\">\n",
       "      <th></th>\n",
       "      <th>Country</th>\n",
       "      <th>Energy Supply</th>\n",
       "      <th>Energy Supply per Capita</th>\n",
       "      <th>% Renewable</th>\n",
       "    </tr>\n",
       "  </thead>\n",
       "  <tbody>\n",
       "    <tr>\n",
       "      <th>3</th>\n",
       "      <td>American Samoa</td>\n",
       "      <td>NaN</td>\n",
       "      <td>NaN</td>\n",
       "      <td>0.641</td>\n",
       "    </tr>\n",
       "    <tr>\n",
       "      <th>24</th>\n",
       "      <td>Bolivia</td>\n",
       "      <td>336000000.000</td>\n",
       "      <td>32.000</td>\n",
       "      <td>31.477</td>\n",
       "    </tr>\n",
       "    <tr>\n",
       "      <th>164</th>\n",
       "      <td>South Korea</td>\n",
       "      <td>11007000000.000</td>\n",
       "      <td>221.000</td>\n",
       "      <td>2.279</td>\n",
       "    </tr>\n",
       "  </tbody>\n",
       "</table>\n",
       "</div>"
      ],
      "text/plain": [
       "            Country   Energy Supply  Energy Supply per Capita  % Renewable\n",
       "3    American Samoa             NaN                       NaN        0.641\n",
       "24          Bolivia   336000000.000                    32.000       31.477\n",
       "164     South Korea 11007000000.000                   221.000        2.279"
      ]
     },
     "execution_count": 69,
     "metadata": {},
     "output_type": "execute_result"
    }
   ],
   "source": [
    "energy_data['Country'] = energy_data['Country'].replace({\"Republic of Korea\": \"South Korea\",\n",
    "                                                        \"United States of America\": \"United States\",\n",
    "                                                        \"United Kingdom of Great Britain and Northern Ireland\": \"United Kingdom\",\n",
    "                                                        \"China, Hong Kong Special Administrative Region\": \"Hong Kong\"})\n",
    "\n",
    "energy_data.loc[energy_data['Country'].isin(['American Samoa', 'South Korea', 'Bolivia'])]"
   ]
  },
  {
   "cell_type": "markdown",
   "id": "5224fad7",
   "metadata": {},
   "source": [
    "#### Task 5:  \n",
    "Next, load the GDP data from the file “gpd.csv”, which is a csv containing countries’ GDP from 1960 to 2015 from World Bank. Make sure to skip the header, and rename the following list of countries:\n",
    "\"Korea, Rep.\": \"South Korea\",\n",
    "\"Iran, Islamic Rep.\": \"Iran\",\n",
    "\"Hong Kong SAR, China\": \"Hong Kong\""
   ]
  },
  {
   "cell_type": "code",
   "execution_count": 70,
   "id": "30186625",
   "metadata": {},
   "outputs": [
    {
     "data": {
      "text/html": [
       "<div>\n",
       "<style scoped>\n",
       "    .dataframe tbody tr th:only-of-type {\n",
       "        vertical-align: middle;\n",
       "    }\n",
       "\n",
       "    .dataframe tbody tr th {\n",
       "        vertical-align: top;\n",
       "    }\n",
       "\n",
       "    .dataframe thead th {\n",
       "        text-align: right;\n",
       "    }\n",
       "</style>\n",
       "<table border=\"1\" class=\"dataframe\">\n",
       "  <thead>\n",
       "    <tr style=\"text-align: right;\">\n",
       "      <th></th>\n",
       "      <th>Country</th>\n",
       "      <th>Country Code</th>\n",
       "      <th>Indicator Name</th>\n",
       "      <th>Indicator Code</th>\n",
       "      <th>1960</th>\n",
       "      <th>1961</th>\n",
       "      <th>1962</th>\n",
       "      <th>1963</th>\n",
       "      <th>1964</th>\n",
       "      <th>1965</th>\n",
       "      <th>...</th>\n",
       "      <th>2006</th>\n",
       "      <th>2007</th>\n",
       "      <th>2008</th>\n",
       "      <th>2009</th>\n",
       "      <th>2010</th>\n",
       "      <th>2011</th>\n",
       "      <th>2012</th>\n",
       "      <th>2013</th>\n",
       "      <th>2014</th>\n",
       "      <th>2015</th>\n",
       "    </tr>\n",
       "  </thead>\n",
       "  <tbody>\n",
       "    <tr>\n",
       "      <th>0</th>\n",
       "      <td>Aruba</td>\n",
       "      <td>ABW</td>\n",
       "      <td>GDP at market prices (constant 2010 US$)</td>\n",
       "      <td>NY.GDP.MKTP.KD</td>\n",
       "      <td>NaN</td>\n",
       "      <td>NaN</td>\n",
       "      <td>NaN</td>\n",
       "      <td>NaN</td>\n",
       "      <td>NaN</td>\n",
       "      <td>NaN</td>\n",
       "      <td>...</td>\n",
       "      <td>NaN</td>\n",
       "      <td>NaN</td>\n",
       "      <td>NaN</td>\n",
       "      <td>NaN</td>\n",
       "      <td>2467703910.615</td>\n",
       "      <td>NaN</td>\n",
       "      <td>NaN</td>\n",
       "      <td>NaN</td>\n",
       "      <td>NaN</td>\n",
       "      <td>NaN</td>\n",
       "    </tr>\n",
       "  </tbody>\n",
       "</table>\n",
       "<p>1 rows × 60 columns</p>\n",
       "</div>"
      ],
      "text/plain": [
       "  Country Country Code                            Indicator Name  \\\n",
       "0   Aruba          ABW  GDP at market prices (constant 2010 US$)   \n",
       "\n",
       "   Indicator Code  1960  1961  1962  1963  1964  1965  ...  2006  2007  2008  \\\n",
       "0  NY.GDP.MKTP.KD   NaN   NaN   NaN   NaN   NaN   NaN  ...   NaN   NaN   NaN   \n",
       "\n",
       "   2009           2010  2011  2012  2013  2014  2015  \n",
       "0   NaN 2467703910.615   NaN   NaN   NaN   NaN   NaN  \n",
       "\n",
       "[1 rows x 60 columns]"
      ]
     },
     "execution_count": 70,
     "metadata": {},
     "output_type": "execute_result"
    }
   ],
   "source": [
    "GPD = pd.read_csv(\"gpd.csv\", header=4).reset_index(drop=True)\n",
    "GPD = GPD.rename(columns={\"Country Name\": \"Country\"})\n",
    "GPD['Country'] = GPD['Country'].replace({\"Korea, Rep.\": \"South Korea\", \n",
    "                                                    \"Iran, Islamic Rep.\": \"Iran\", \n",
    "                                                    \"Hong Kong SAR, China\": \"Hong Kong\"})\n",
    "GPD.head(1)"
   ]
  },
  {
   "cell_type": "markdown",
   "id": "af6c02d0",
   "metadata": {},
   "source": [
    "#### Task 6:  \n",
    "Load the Sciamgo Journal and Country Rank data for Energy Engineering and Power Technology from the file “scimagojr.xlsx”, which ranks countries based on their journal contributions in the aforementioned area."
   ]
  },
  {
   "cell_type": "code",
   "execution_count": 71,
   "id": "ba691e18",
   "metadata": {},
   "outputs": [
    {
     "data": {
      "text/html": [
       "<div>\n",
       "<style scoped>\n",
       "    .dataframe tbody tr th:only-of-type {\n",
       "        vertical-align: middle;\n",
       "    }\n",
       "\n",
       "    .dataframe tbody tr th {\n",
       "        vertical-align: top;\n",
       "    }\n",
       "\n",
       "    .dataframe thead th {\n",
       "        text-align: right;\n",
       "    }\n",
       "</style>\n",
       "<table border=\"1\" class=\"dataframe\">\n",
       "  <thead>\n",
       "    <tr style=\"text-align: right;\">\n",
       "      <th></th>\n",
       "      <th>Rank</th>\n",
       "      <th>Country</th>\n",
       "      <th>Documents</th>\n",
       "      <th>Citable documents</th>\n",
       "      <th>Citations</th>\n",
       "      <th>Self-citations</th>\n",
       "      <th>Citations per document</th>\n",
       "      <th>H index</th>\n",
       "    </tr>\n",
       "  </thead>\n",
       "  <tbody>\n",
       "    <tr>\n",
       "      <th>0</th>\n",
       "      <td>1</td>\n",
       "      <td>China</td>\n",
       "      <td>127050</td>\n",
       "      <td>126767</td>\n",
       "      <td>597237</td>\n",
       "      <td>411683</td>\n",
       "      <td>4.700</td>\n",
       "      <td>138</td>\n",
       "    </tr>\n",
       "    <tr>\n",
       "      <th>1</th>\n",
       "      <td>2</td>\n",
       "      <td>United States</td>\n",
       "      <td>96661</td>\n",
       "      <td>94747</td>\n",
       "      <td>792274</td>\n",
       "      <td>265436</td>\n",
       "      <td>8.200</td>\n",
       "      <td>230</td>\n",
       "    </tr>\n",
       "    <tr>\n",
       "      <th>2</th>\n",
       "      <td>3</td>\n",
       "      <td>Japan</td>\n",
       "      <td>30504</td>\n",
       "      <td>30287</td>\n",
       "      <td>223024</td>\n",
       "      <td>61554</td>\n",
       "      <td>7.310</td>\n",
       "      <td>134</td>\n",
       "    </tr>\n",
       "    <tr>\n",
       "      <th>3</th>\n",
       "      <td>4</td>\n",
       "      <td>United Kingdom</td>\n",
       "      <td>20944</td>\n",
       "      <td>20357</td>\n",
       "      <td>206091</td>\n",
       "      <td>37874</td>\n",
       "      <td>9.840</td>\n",
       "      <td>139</td>\n",
       "    </tr>\n",
       "    <tr>\n",
       "      <th>4</th>\n",
       "      <td>5</td>\n",
       "      <td>Russian Federation</td>\n",
       "      <td>18534</td>\n",
       "      <td>18301</td>\n",
       "      <td>34266</td>\n",
       "      <td>12422</td>\n",
       "      <td>1.850</td>\n",
       "      <td>57</td>\n",
       "    </tr>\n",
       "    <tr>\n",
       "      <th>...</th>\n",
       "      <td>...</td>\n",
       "      <td>...</td>\n",
       "      <td>...</td>\n",
       "      <td>...</td>\n",
       "      <td>...</td>\n",
       "      <td>...</td>\n",
       "      <td>...</td>\n",
       "      <td>...</td>\n",
       "    </tr>\n",
       "    <tr>\n",
       "      <th>186</th>\n",
       "      <td>187</td>\n",
       "      <td>Guyana</td>\n",
       "      <td>1</td>\n",
       "      <td>1</td>\n",
       "      <td>0</td>\n",
       "      <td>0</td>\n",
       "      <td>0.000</td>\n",
       "      <td>0</td>\n",
       "    </tr>\n",
       "    <tr>\n",
       "      <th>187</th>\n",
       "      <td>188</td>\n",
       "      <td>Christmas Island</td>\n",
       "      <td>1</td>\n",
       "      <td>1</td>\n",
       "      <td>0</td>\n",
       "      <td>0</td>\n",
       "      <td>0.000</td>\n",
       "      <td>0</td>\n",
       "    </tr>\n",
       "    <tr>\n",
       "      <th>188</th>\n",
       "      <td>189</td>\n",
       "      <td>Reunion</td>\n",
       "      <td>1</td>\n",
       "      <td>1</td>\n",
       "      <td>2</td>\n",
       "      <td>1</td>\n",
       "      <td>2.000</td>\n",
       "      <td>1</td>\n",
       "    </tr>\n",
       "    <tr>\n",
       "      <th>189</th>\n",
       "      <td>190</td>\n",
       "      <td>Saint Lucia</td>\n",
       "      <td>1</td>\n",
       "      <td>1</td>\n",
       "      <td>0</td>\n",
       "      <td>0</td>\n",
       "      <td>0.000</td>\n",
       "      <td>0</td>\n",
       "    </tr>\n",
       "    <tr>\n",
       "      <th>190</th>\n",
       "      <td>191</td>\n",
       "      <td>Mauritania</td>\n",
       "      <td>1</td>\n",
       "      <td>1</td>\n",
       "      <td>1</td>\n",
       "      <td>0</td>\n",
       "      <td>1.000</td>\n",
       "      <td>1</td>\n",
       "    </tr>\n",
       "  </tbody>\n",
       "</table>\n",
       "<p>191 rows × 8 columns</p>\n",
       "</div>"
      ],
      "text/plain": [
       "     Rank             Country  Documents  Citable documents  Citations  \\\n",
       "0       1               China     127050             126767     597237   \n",
       "1       2       United States      96661              94747     792274   \n",
       "2       3               Japan      30504              30287     223024   \n",
       "3       4      United Kingdom      20944              20357     206091   \n",
       "4       5  Russian Federation      18534              18301      34266   \n",
       "..    ...                 ...        ...                ...        ...   \n",
       "186   187              Guyana          1                  1          0   \n",
       "187   188    Christmas Island          1                  1          0   \n",
       "188   189             Reunion          1                  1          2   \n",
       "189   190         Saint Lucia          1                  1          0   \n",
       "190   191          Mauritania          1                  1          1   \n",
       "\n",
       "     Self-citations  Citations per document  H index  \n",
       "0            411683                   4.700      138  \n",
       "1            265436                   8.200      230  \n",
       "2             61554                   7.310      134  \n",
       "3             37874                   9.840      139  \n",
       "4             12422                   1.850       57  \n",
       "..              ...                     ...      ...  \n",
       "186               0                   0.000        0  \n",
       "187               0                   0.000        0  \n",
       "188               1                   2.000        1  \n",
       "189               0                   0.000        0  \n",
       "190               0                   1.000        1  \n",
       "\n",
       "[191 rows x 8 columns]"
      ]
     },
     "execution_count": 71,
     "metadata": {},
     "output_type": "execute_result"
    }
   ],
   "source": [
    "scimagojr = pd.read_excel('scimagojr.xlsx')\n",
    "scimagojr"
   ]
  },
  {
   "cell_type": "markdown",
   "id": "cc9afe95",
   "metadata": {},
   "source": [
    "#### Task 7:  \n",
    "Join the three datasets from tasks 1-6 into a new dataset (using the intersection\n",
    "of country names).\n",
    "- Use only the last 10 years (2006-2015) of GDP data and only the top 15\n",
    "countries by Scimagojr 'Rank' (Rank 1 through 15).\n",
    "- The index of this DataFrame should be the name of the country, and the columns\n",
    "should be ['Rank', 'Documents', 'Citable documents', 'Citations', 'Self-citations',\n",
    "'Citations per document', 'H index', 'Energy Supply', 'Energy Supply per Capita', '%\n",
    "Renewable', '2006', '2007', '2008', '2009', '2010', '2011', '2012', '2013', '2014',\n",
    "'2015'].\n",
    "You should obtain a DataFrame with 15 rows and 20 columns."
   ]
  },
  {
   "cell_type": "code",
   "execution_count": 72,
   "id": "5ce8e448",
   "metadata": {},
   "outputs": [
    {
     "data": {
      "text/html": [
       "<div>\n",
       "<style scoped>\n",
       "    .dataframe tbody tr th:only-of-type {\n",
       "        vertical-align: middle;\n",
       "    }\n",
       "\n",
       "    .dataframe tbody tr th {\n",
       "        vertical-align: top;\n",
       "    }\n",
       "\n",
       "    .dataframe thead th {\n",
       "        text-align: right;\n",
       "    }\n",
       "</style>\n",
       "<table border=\"1\" class=\"dataframe\">\n",
       "  <thead>\n",
       "    <tr style=\"text-align: right;\">\n",
       "      <th></th>\n",
       "      <th>Rank</th>\n",
       "      <th>Documents</th>\n",
       "      <th>Citable documents</th>\n",
       "      <th>Citations</th>\n",
       "      <th>Self-citations</th>\n",
       "      <th>Citations per document</th>\n",
       "      <th>H index</th>\n",
       "      <th>Energy Supply</th>\n",
       "      <th>Energy Supply per Capita</th>\n",
       "      <th>% Renewable</th>\n",
       "      <th>2006</th>\n",
       "      <th>2007</th>\n",
       "      <th>2008</th>\n",
       "      <th>2009</th>\n",
       "      <th>2010</th>\n",
       "      <th>2011</th>\n",
       "      <th>2012</th>\n",
       "      <th>2013</th>\n",
       "      <th>2014</th>\n",
       "      <th>2015</th>\n",
       "    </tr>\n",
       "    <tr>\n",
       "      <th>Country</th>\n",
       "      <th></th>\n",
       "      <th></th>\n",
       "      <th></th>\n",
       "      <th></th>\n",
       "      <th></th>\n",
       "      <th></th>\n",
       "      <th></th>\n",
       "      <th></th>\n",
       "      <th></th>\n",
       "      <th></th>\n",
       "      <th></th>\n",
       "      <th></th>\n",
       "      <th></th>\n",
       "      <th></th>\n",
       "      <th></th>\n",
       "      <th></th>\n",
       "      <th></th>\n",
       "      <th></th>\n",
       "      <th></th>\n",
       "      <th></th>\n",
       "    </tr>\n",
       "  </thead>\n",
       "  <tbody>\n",
       "    <tr>\n",
       "      <th>China</th>\n",
       "      <td>1</td>\n",
       "      <td>127050</td>\n",
       "      <td>126767</td>\n",
       "      <td>597237</td>\n",
       "      <td>411683</td>\n",
       "      <td>4.700</td>\n",
       "      <td>138</td>\n",
       "      <td>127191000000.000</td>\n",
       "      <td>93.000</td>\n",
       "      <td>19.755</td>\n",
       "      <td>3992331462570.890</td>\n",
       "      <td>4559041383517.930</td>\n",
       "      <td>4997775145605.960</td>\n",
       "      <td>5459247267275.140</td>\n",
       "      <td>6039658508485.590</td>\n",
       "      <td>6612490294273.650</td>\n",
       "      <td>7124977970399.610</td>\n",
       "      <td>7672447738017.420</td>\n",
       "      <td>8230120617793.520</td>\n",
       "      <td>8797998940421.279</td>\n",
       "    </tr>\n",
       "    <tr>\n",
       "      <th>United States</th>\n",
       "      <td>2</td>\n",
       "      <td>96661</td>\n",
       "      <td>94747</td>\n",
       "      <td>792274</td>\n",
       "      <td>265436</td>\n",
       "      <td>8.200</td>\n",
       "      <td>230</td>\n",
       "      <td>90838000000.000</td>\n",
       "      <td>286.000</td>\n",
       "      <td>11.571</td>\n",
       "      <td>14792303791800.000</td>\n",
       "      <td>15055395304800.000</td>\n",
       "      <td>15011490541400.000</td>\n",
       "      <td>14594842181900.000</td>\n",
       "      <td>14964372000000.000</td>\n",
       "      <td>15204019634600.000</td>\n",
       "      <td>15542161722300.000</td>\n",
       "      <td>15773666098800.000</td>\n",
       "      <td>16156618476000.000</td>\n",
       "      <td>16548573278300.000</td>\n",
       "    </tr>\n",
       "    <tr>\n",
       "      <th>Japan</th>\n",
       "      <td>3</td>\n",
       "      <td>30504</td>\n",
       "      <td>30287</td>\n",
       "      <td>223024</td>\n",
       "      <td>61554</td>\n",
       "      <td>7.310</td>\n",
       "      <td>134</td>\n",
       "      <td>18984000000.000</td>\n",
       "      <td>149.000</td>\n",
       "      <td>10.233</td>\n",
       "      <td>5496541517363.310</td>\n",
       "      <td>5617035943770.730</td>\n",
       "      <td>5558526873313.820</td>\n",
       "      <td>5251308399909.320</td>\n",
       "      <td>5498717815809.770</td>\n",
       "      <td>5473738114222.050</td>\n",
       "      <td>5569101602926.180</td>\n",
       "      <td>5644658523313.420</td>\n",
       "      <td>5642884448582.190</td>\n",
       "      <td>5669563143140.970</td>\n",
       "    </tr>\n",
       "    <tr>\n",
       "      <th>United Kingdom</th>\n",
       "      <td>4</td>\n",
       "      <td>20944</td>\n",
       "      <td>20357</td>\n",
       "      <td>206091</td>\n",
       "      <td>37874</td>\n",
       "      <td>9.840</td>\n",
       "      <td>139</td>\n",
       "      <td>7920000000.000</td>\n",
       "      <td>124.000</td>\n",
       "      <td>10.600</td>\n",
       "      <td>2419630700401.730</td>\n",
       "      <td>2482203235475.900</td>\n",
       "      <td>2470614405284.300</td>\n",
       "      <td>2367047611711.990</td>\n",
       "      <td>2403504326328.800</td>\n",
       "      <td>2450911011124.850</td>\n",
       "      <td>2479808627472.190</td>\n",
       "      <td>2533370110012.360</td>\n",
       "      <td>2605643189894.930</td>\n",
       "      <td>2666333396477.130</td>\n",
       "    </tr>\n",
       "    <tr>\n",
       "      <th>Russian Federation</th>\n",
       "      <td>5</td>\n",
       "      <td>18534</td>\n",
       "      <td>18301</td>\n",
       "      <td>34266</td>\n",
       "      <td>12422</td>\n",
       "      <td>1.850</td>\n",
       "      <td>57</td>\n",
       "      <td>30709000000.000</td>\n",
       "      <td>214.000</td>\n",
       "      <td>17.289</td>\n",
       "      <td>1385792607182.580</td>\n",
       "      <td>1504071117741.300</td>\n",
       "      <td>1583004071092.110</td>\n",
       "      <td>1459199142720.260</td>\n",
       "      <td>1524917468442.010</td>\n",
       "      <td>1589942641764.290</td>\n",
       "      <td>1645875899596.270</td>\n",
       "      <td>1666934123163.160</td>\n",
       "      <td>1678708855070.860</td>\n",
       "      <td>1616148858033.770</td>\n",
       "    </tr>\n",
       "    <tr>\n",
       "      <th>Canada</th>\n",
       "      <td>6</td>\n",
       "      <td>17899</td>\n",
       "      <td>17620</td>\n",
       "      <td>215003</td>\n",
       "      <td>40930</td>\n",
       "      <td>12.010</td>\n",
       "      <td>149</td>\n",
       "      <td>10431000000.000</td>\n",
       "      <td>296.000</td>\n",
       "      <td>61.945</td>\n",
       "      <td>1564468853329.450</td>\n",
       "      <td>1596739898466.320</td>\n",
       "      <td>1612713061250.240</td>\n",
       "      <td>1565144676082.310</td>\n",
       "      <td>1613406134731.120</td>\n",
       "      <td>1664086754804.890</td>\n",
       "      <td>1693132927878.080</td>\n",
       "      <td>1730687770724.130</td>\n",
       "      <td>1773485821199.770</td>\n",
       "      <td>1792608764608.810</td>\n",
       "    </tr>\n",
       "    <tr>\n",
       "      <th>Germany</th>\n",
       "      <td>7</td>\n",
       "      <td>17027</td>\n",
       "      <td>16831</td>\n",
       "      <td>140566</td>\n",
       "      <td>27426</td>\n",
       "      <td>8.260</td>\n",
       "      <td>126</td>\n",
       "      <td>13261000000.000</td>\n",
       "      <td>165.000</td>\n",
       "      <td>17.902</td>\n",
       "      <td>3332890754966.890</td>\n",
       "      <td>3441560834437.090</td>\n",
       "      <td>3478809377483.440</td>\n",
       "      <td>3283339933774.830</td>\n",
       "      <td>3417298013245.030</td>\n",
       "      <td>3542371125827.810</td>\n",
       "      <td>3556723774834.440</td>\n",
       "      <td>3567317390728.480</td>\n",
       "      <td>3624386278145.700</td>\n",
       "      <td>3685555907284.770</td>\n",
       "    </tr>\n",
       "    <tr>\n",
       "      <th>India</th>\n",
       "      <td>8</td>\n",
       "      <td>15005</td>\n",
       "      <td>14841</td>\n",
       "      <td>128763</td>\n",
       "      <td>37209</td>\n",
       "      <td>8.580</td>\n",
       "      <td>115</td>\n",
       "      <td>33195000000.000</td>\n",
       "      <td>26.000</td>\n",
       "      <td>14.969</td>\n",
       "      <td>1265894322131.090</td>\n",
       "      <td>1374865195244.500</td>\n",
       "      <td>1428360609657.800</td>\n",
       "      <td>1549482541544.700</td>\n",
       "      <td>1708458876829.920</td>\n",
       "      <td>1821872415623.620</td>\n",
       "      <td>1924235460945.250</td>\n",
       "      <td>2051981849791.690</td>\n",
       "      <td>2200616575310.970</td>\n",
       "      <td>2367206118959.060</td>\n",
       "    </tr>\n",
       "    <tr>\n",
       "      <th>France</th>\n",
       "      <td>9</td>\n",
       "      <td>13153</td>\n",
       "      <td>12973</td>\n",
       "      <td>130632</td>\n",
       "      <td>28601</td>\n",
       "      <td>9.930</td>\n",
       "      <td>114</td>\n",
       "      <td>10597000000.000</td>\n",
       "      <td>166.000</td>\n",
       "      <td>17.020</td>\n",
       "      <td>2607839735099.340</td>\n",
       "      <td>2669423841059.600</td>\n",
       "      <td>2674637086092.710</td>\n",
       "      <td>2595966887417.220</td>\n",
       "      <td>2646994701986.750</td>\n",
       "      <td>2702031788079.470</td>\n",
       "      <td>2706968211920.530</td>\n",
       "      <td>2722566887417.220</td>\n",
       "      <td>2729631788079.470</td>\n",
       "      <td>2761185430463.580</td>\n",
       "    </tr>\n",
       "    <tr>\n",
       "      <th>South Korea</th>\n",
       "      <td>10</td>\n",
       "      <td>11983</td>\n",
       "      <td>11923</td>\n",
       "      <td>114675</td>\n",
       "      <td>22595</td>\n",
       "      <td>9.570</td>\n",
       "      <td>104</td>\n",
       "      <td>11007000000.000</td>\n",
       "      <td>221.000</td>\n",
       "      <td>2.279</td>\n",
       "      <td>941019882149.125</td>\n",
       "      <td>992431619676.197</td>\n",
       "      <td>1020509638539.710</td>\n",
       "      <td>1027729932849.170</td>\n",
       "      <td>1094499338702.720</td>\n",
       "      <td>1134795571930.640</td>\n",
       "      <td>1160809426196.790</td>\n",
       "      <td>1194429021591.570</td>\n",
       "      <td>1234340240503.490</td>\n",
       "      <td>1266580410309.110</td>\n",
       "    </tr>\n",
       "    <tr>\n",
       "      <th>Italy</th>\n",
       "      <td>11</td>\n",
       "      <td>10964</td>\n",
       "      <td>10794</td>\n",
       "      <td>111850</td>\n",
       "      <td>26661</td>\n",
       "      <td>10.200</td>\n",
       "      <td>106</td>\n",
       "      <td>6530000000.000</td>\n",
       "      <td>109.000</td>\n",
       "      <td>33.667</td>\n",
       "      <td>2202169663576.160</td>\n",
       "      <td>2234626814701.990</td>\n",
       "      <td>2211154176556.290</td>\n",
       "      <td>2089937511523.180</td>\n",
       "      <td>2125184794172.190</td>\n",
       "      <td>2137439133774.830</td>\n",
       "      <td>2077184315761.590</td>\n",
       "      <td>2040871178145.700</td>\n",
       "      <td>2033867707549.670</td>\n",
       "      <td>2049315603576.160</td>\n",
       "    </tr>\n",
       "    <tr>\n",
       "      <th>Spain</th>\n",
       "      <td>12</td>\n",
       "      <td>9428</td>\n",
       "      <td>9330</td>\n",
       "      <td>123336</td>\n",
       "      <td>23964</td>\n",
       "      <td>13.080</td>\n",
       "      <td>115</td>\n",
       "      <td>4923000000.000</td>\n",
       "      <td>106.000</td>\n",
       "      <td>37.969</td>\n",
       "      <td>1414822516556.290</td>\n",
       "      <td>1468145695364.240</td>\n",
       "      <td>1484529801324.500</td>\n",
       "      <td>1431475496688.740</td>\n",
       "      <td>1431672847682.120</td>\n",
       "      <td>1417354966887.420</td>\n",
       "      <td>1380215894039.730</td>\n",
       "      <td>1357139072847.680</td>\n",
       "      <td>1375605298013.240</td>\n",
       "      <td>1419821192052.980</td>\n",
       "    </tr>\n",
       "    <tr>\n",
       "      <th>Iran</th>\n",
       "      <td>13</td>\n",
       "      <td>8896</td>\n",
       "      <td>8819</td>\n",
       "      <td>57470</td>\n",
       "      <td>19125</td>\n",
       "      <td>6.460</td>\n",
       "      <td>72</td>\n",
       "      <td>9172000000.000</td>\n",
       "      <td>119.000</td>\n",
       "      <td>5.708</td>\n",
       "      <td>389552313541.270</td>\n",
       "      <td>425064554419.087</td>\n",
       "      <td>428990857822.095</td>\n",
       "      <td>438920754763.986</td>\n",
       "      <td>467790215915.476</td>\n",
       "      <td>485330901134.448</td>\n",
       "      <td>453256899727.832</td>\n",
       "      <td>444592553889.771</td>\n",
       "      <td>463902735245.890</td>\n",
       "      <td>NaN</td>\n",
       "    </tr>\n",
       "    <tr>\n",
       "      <th>Australia</th>\n",
       "      <td>14</td>\n",
       "      <td>8831</td>\n",
       "      <td>8725</td>\n",
       "      <td>90765</td>\n",
       "      <td>15606</td>\n",
       "      <td>10.280</td>\n",
       "      <td>107</td>\n",
       "      <td>5386000000.000</td>\n",
       "      <td>231.000</td>\n",
       "      <td>11.811</td>\n",
       "      <td>1021939264106.670</td>\n",
       "      <td>1060340245233.550</td>\n",
       "      <td>1099643871866.030</td>\n",
       "      <td>1119653852349.080</td>\n",
       "      <td>1142250506474.060</td>\n",
       "      <td>1169431057881.910</td>\n",
       "      <td>1211913217353.490</td>\n",
       "      <td>1241484494446.530</td>\n",
       "      <td>1272519759757.290</td>\n",
       "      <td>1301251030445.660</td>\n",
       "    </tr>\n",
       "    <tr>\n",
       "      <th>Brazil</th>\n",
       "      <td>15</td>\n",
       "      <td>8668</td>\n",
       "      <td>8596</td>\n",
       "      <td>60702</td>\n",
       "      <td>14396</td>\n",
       "      <td>7.000</td>\n",
       "      <td>86</td>\n",
       "      <td>12149000000.000</td>\n",
       "      <td>59.000</td>\n",
       "      <td>69.648</td>\n",
       "      <td>1845079664513.560</td>\n",
       "      <td>1957118136056.330</td>\n",
       "      <td>2056809174052.930</td>\n",
       "      <td>2054214562458.190</td>\n",
       "      <td>2208872214643.020</td>\n",
       "      <td>2295244758549.530</td>\n",
       "      <td>2339209222185.090</td>\n",
       "      <td>2409739667075.820</td>\n",
       "      <td>2412230647720.450</td>\n",
       "      <td>2319423390494.130</td>\n",
       "    </tr>\n",
       "  </tbody>\n",
       "</table>\n",
       "</div>"
      ],
      "text/plain": [
       "                    Rank  Documents  Citable documents  Citations  \\\n",
       "Country                                                             \n",
       "China                  1     127050             126767     597237   \n",
       "United States          2      96661              94747     792274   \n",
       "Japan                  3      30504              30287     223024   \n",
       "United Kingdom         4      20944              20357     206091   \n",
       "Russian Federation     5      18534              18301      34266   \n",
       "Canada                 6      17899              17620     215003   \n",
       "Germany                7      17027              16831     140566   \n",
       "India                  8      15005              14841     128763   \n",
       "France                 9      13153              12973     130632   \n",
       "South Korea           10      11983              11923     114675   \n",
       "Italy                 11      10964              10794     111850   \n",
       "Spain                 12       9428               9330     123336   \n",
       "Iran                  13       8896               8819      57470   \n",
       "Australia             14       8831               8725      90765   \n",
       "Brazil                15       8668               8596      60702   \n",
       "\n",
       "                    Self-citations  Citations per document  H index  \\\n",
       "Country                                                               \n",
       "China                       411683                   4.700      138   \n",
       "United States               265436                   8.200      230   \n",
       "Japan                        61554                   7.310      134   \n",
       "United Kingdom               37874                   9.840      139   \n",
       "Russian Federation           12422                   1.850       57   \n",
       "Canada                       40930                  12.010      149   \n",
       "Germany                      27426                   8.260      126   \n",
       "India                        37209                   8.580      115   \n",
       "France                       28601                   9.930      114   \n",
       "South Korea                  22595                   9.570      104   \n",
       "Italy                        26661                  10.200      106   \n",
       "Spain                        23964                  13.080      115   \n",
       "Iran                         19125                   6.460       72   \n",
       "Australia                    15606                  10.280      107   \n",
       "Brazil                       14396                   7.000       86   \n",
       "\n",
       "                      Energy Supply  Energy Supply per Capita  % Renewable  \\\n",
       "Country                                                                      \n",
       "China              127191000000.000                    93.000       19.755   \n",
       "United States       90838000000.000                   286.000       11.571   \n",
       "Japan               18984000000.000                   149.000       10.233   \n",
       "United Kingdom       7920000000.000                   124.000       10.600   \n",
       "Russian Federation  30709000000.000                   214.000       17.289   \n",
       "Canada              10431000000.000                   296.000       61.945   \n",
       "Germany             13261000000.000                   165.000       17.902   \n",
       "India               33195000000.000                    26.000       14.969   \n",
       "France              10597000000.000                   166.000       17.020   \n",
       "South Korea         11007000000.000                   221.000        2.279   \n",
       "Italy                6530000000.000                   109.000       33.667   \n",
       "Spain                4923000000.000                   106.000       37.969   \n",
       "Iran                 9172000000.000                   119.000        5.708   \n",
       "Australia            5386000000.000                   231.000       11.811   \n",
       "Brazil              12149000000.000                    59.000       69.648   \n",
       "\n",
       "                                 2006               2007               2008  \\\n",
       "Country                                                                       \n",
       "China               3992331462570.890  4559041383517.930  4997775145605.960   \n",
       "United States      14792303791800.000 15055395304800.000 15011490541400.000   \n",
       "Japan               5496541517363.310  5617035943770.730  5558526873313.820   \n",
       "United Kingdom      2419630700401.730  2482203235475.900  2470614405284.300   \n",
       "Russian Federation  1385792607182.580  1504071117741.300  1583004071092.110   \n",
       "Canada              1564468853329.450  1596739898466.320  1612713061250.240   \n",
       "Germany             3332890754966.890  3441560834437.090  3478809377483.440   \n",
       "India               1265894322131.090  1374865195244.500  1428360609657.800   \n",
       "France              2607839735099.340  2669423841059.600  2674637086092.710   \n",
       "South Korea          941019882149.125   992431619676.197  1020509638539.710   \n",
       "Italy               2202169663576.160  2234626814701.990  2211154176556.290   \n",
       "Spain               1414822516556.290  1468145695364.240  1484529801324.500   \n",
       "Iran                 389552313541.270   425064554419.087   428990857822.095   \n",
       "Australia           1021939264106.670  1060340245233.550  1099643871866.030   \n",
       "Brazil              1845079664513.560  1957118136056.330  2056809174052.930   \n",
       "\n",
       "                                 2009               2010               2011  \\\n",
       "Country                                                                       \n",
       "China               5459247267275.140  6039658508485.590  6612490294273.650   \n",
       "United States      14594842181900.000 14964372000000.000 15204019634600.000   \n",
       "Japan               5251308399909.320  5498717815809.770  5473738114222.050   \n",
       "United Kingdom      2367047611711.990  2403504326328.800  2450911011124.850   \n",
       "Russian Federation  1459199142720.260  1524917468442.010  1589942641764.290   \n",
       "Canada              1565144676082.310  1613406134731.120  1664086754804.890   \n",
       "Germany             3283339933774.830  3417298013245.030  3542371125827.810   \n",
       "India               1549482541544.700  1708458876829.920  1821872415623.620   \n",
       "France              2595966887417.220  2646994701986.750  2702031788079.470   \n",
       "South Korea         1027729932849.170  1094499338702.720  1134795571930.640   \n",
       "Italy               2089937511523.180  2125184794172.190  2137439133774.830   \n",
       "Spain               1431475496688.740  1431672847682.120  1417354966887.420   \n",
       "Iran                 438920754763.986   467790215915.476   485330901134.448   \n",
       "Australia           1119653852349.080  1142250506474.060  1169431057881.910   \n",
       "Brazil              2054214562458.190  2208872214643.020  2295244758549.530   \n",
       "\n",
       "                                 2012               2013               2014  \\\n",
       "Country                                                                       \n",
       "China               7124977970399.610  7672447738017.420  8230120617793.520   \n",
       "United States      15542161722300.000 15773666098800.000 16156618476000.000   \n",
       "Japan               5569101602926.180  5644658523313.420  5642884448582.190   \n",
       "United Kingdom      2479808627472.190  2533370110012.360  2605643189894.930   \n",
       "Russian Federation  1645875899596.270  1666934123163.160  1678708855070.860   \n",
       "Canada              1693132927878.080  1730687770724.130  1773485821199.770   \n",
       "Germany             3556723774834.440  3567317390728.480  3624386278145.700   \n",
       "India               1924235460945.250  2051981849791.690  2200616575310.970   \n",
       "France              2706968211920.530  2722566887417.220  2729631788079.470   \n",
       "South Korea         1160809426196.790  1194429021591.570  1234340240503.490   \n",
       "Italy               2077184315761.590  2040871178145.700  2033867707549.670   \n",
       "Spain               1380215894039.730  1357139072847.680  1375605298013.240   \n",
       "Iran                 453256899727.832   444592553889.771   463902735245.890   \n",
       "Australia           1211913217353.490  1241484494446.530  1272519759757.290   \n",
       "Brazil              2339209222185.090  2409739667075.820  2412230647720.450   \n",
       "\n",
       "                                 2015  \n",
       "Country                                \n",
       "China               8797998940421.279  \n",
       "United States      16548573278300.000  \n",
       "Japan               5669563143140.970  \n",
       "United Kingdom      2666333396477.130  \n",
       "Russian Federation  1616148858033.770  \n",
       "Canada              1792608764608.810  \n",
       "Germany             3685555907284.770  \n",
       "India               2367206118959.060  \n",
       "France              2761185430463.580  \n",
       "South Korea         1266580410309.110  \n",
       "Italy               2049315603576.160  \n",
       "Spain               1419821192052.980  \n",
       "Iran                              NaN  \n",
       "Australia           1301251030445.660  \n",
       "Brazil              2319423390494.130  "
      ]
     },
     "metadata": {},
     "output_type": "display_data"
    }
   ],
   "source": [
    "task_7_1 = pd.merge(energy_data, GPD, on=\"Country\")\n",
    "task_7_2 = pd.merge(scimagojr,task_7_1 , on=\"Country\")\n",
    "result1 = task_7_2.iloc[0:15]\n",
    "merged_data = result1.drop(columns=result1.columns[11:60]).set_index('Country')\n",
    "display(merged_data)"
   ]
  },
  {
   "cell_type": "code",
   "execution_count": 73,
   "id": "a53e28b5",
   "metadata": {},
   "outputs": [
    {
     "name": "stdout",
     "output_type": "stream",
     "text": [
      "(15, 20)\n"
     ]
    }
   ],
   "source": [
    "print(merged_data.shape)"
   ]
  },
  {
   "cell_type": "markdown",
   "id": "2e0cd64f",
   "metadata": {},
   "source": [
    "#### Task 8:  \n",
    "Create a function to define what are the top 15 countries for average GDP over the last 10 years?\n",
    "This function should return a Series with 15 countries and their average GDP sorted in descending order."
   ]
  },
  {
   "cell_type": "code",
   "execution_count": 75,
   "id": "12b73cd0",
   "metadata": {},
   "outputs": [
    {
     "name": "stdout",
     "output_type": "stream",
     "text": [
      "Country\n",
      "United States        15364344302990.000\n",
      "China                 6348608932836.100\n",
      "Japan                 5542207638235.176\n",
      "Germany               3493025339072.848\n",
      "France                2681724635761.589\n",
      "United Kingdom        2487906661418.417\n",
      "Brazil                2189794143774.905\n",
      "Italy                 2120175089933.776\n",
      "India                 1769297396603.860\n",
      "Canada                1660647466307.512\n",
      "Russian Federation    1565459478480.661\n",
      "Spain                 1418078278145.694\n",
      "Australia             1164042729991.427\n",
      "South Korea           1106714508244.852\n",
      "Iran                   399740178645.985\n",
      "dtype: float64\n"
     ]
    }
   ],
   "source": [
    "def task_eight():\n",
    "    result = merged_data.groupby('Country').sum().loc[: , '2006':].mean(axis=1).sort_values(ascending=False)\n",
    "    return result\n",
    "print(task_eight())"
   ]
  },
  {
   "cell_type": "markdown",
   "id": "367afd93",
   "metadata": {},
   "source": [
    "#### Task 9:  \n",
    "Create a function to define by how much had the GDP changed over the past 10 year for the country with the 5th largest average GDP?\n",
    "This function should return a tuple with the country’s name and number"
   ]
  },
  {
   "cell_type": "code",
   "execution_count": 58,
   "id": "b0d4e480",
   "metadata": {},
   "outputs": [
    {
     "name": "stdout",
     "output_type": "stream",
     "text": [
      "('France', 153345695364.24023)\n"
     ]
    }
   ],
   "source": [
    "def task_nine():\n",
    "    test = merged_data.groupby('Country').sum().loc[:, '2006':]\n",
    "    result = test.iloc[4]\n",
    "    return (result.name, result['2015'] - result['2006'])\n",
    "\n",
    "print(task_nine())"
   ]
  },
  {
   "cell_type": "markdown",
   "id": "d5fdfb94",
   "metadata": {},
   "source": [
    "#### Task 10:  \n",
    "Create a function to define what country has the maximum % Renewable and what is the percentage? This function should return a tuple with the name of the country and the percentage."
   ]
  },
  {
   "cell_type": "code",
   "execution_count": 56,
   "id": "50a626a2",
   "metadata": {},
   "outputs": [
    {
     "name": "stdout",
     "output_type": "stream",
     "text": [
      "('Brazil', 69.64803)\n"
     ]
    }
   ],
   "source": [
    "def task_ten():\n",
    "    result = merged_data.sort_values(by = '% Renewable',ascending=False)\n",
    "    return (result.index[0], result.loc[result.index[0], '% Renewable'])\n",
    "\n",
    "print(task_ten())"
   ]
  },
  {
   "cell_type": "markdown",
   "id": "1a68b112",
   "metadata": {},
   "source": [
    "#### Task 11:  \n",
    "Create a column that estimates the population using Energy Supply and Energy Supply per capita. What is the sixth most populous country according to this estimate?\n",
    "This function should return a tuple with the name of the country and the population"
   ]
  },
  {
   "cell_type": "code",
   "execution_count": 55,
   "id": "64d2a256",
   "metadata": {},
   "outputs": [
    {
     "name": "stdout",
     "output_type": "stream",
     "text": [
      "('Japan', 127409395.97315437)\n"
     ]
    }
   ],
   "source": [
    "def task_eleven():\n",
    "    merged_data['population estimation'] = merged_data['Energy Supply'] / merged_data['Energy Supply per Capita']\n",
    "    result = merged_data.sort_values(by = 'population estimation',ascending=False)\n",
    "    return (result.index[5], result.loc[result.index[5], 'population estimation'])\n",
    "\n",
    "print(task_eleven())"
   ]
  },
  {
   "cell_type": "markdown",
   "id": "d801f566",
   "metadata": {},
   "source": [
    "#### Task 12:  \n",
    "Create a column that estimates the number of citable documents per person. What is the correlation between the number of citable documents per capita and the energy supply per capita? Use the .corr() method, (Pearson's correlation). This function should return a single number."
   ]
  },
  {
   "cell_type": "code",
   "execution_count": 54,
   "id": "c4a793c3",
   "metadata": {},
   "outputs": [
    {
     "name": "stdout",
     "output_type": "stream",
     "text": [
      "0.7940010435442946\n"
     ]
    }
   ],
   "source": [
    "def task_twelve():\n",
    "    merged_data['citable documents per person'] = merged_data['Energy Supply'] / merged_data['Energy Supply per Capita']\n",
    "    merged_data['citable documents per capita'] = merged_data['Citable documents'] / merged_data['citable documents per person']\n",
    "    return merged_data['citable documents per capita'].corr(merged_data['Energy Supply per Capita'], method='pearson')\n",
    "\n",
    "print(task_twelve())"
   ]
  },
  {
   "cell_type": "markdown",
   "id": "b24cfd4b",
   "metadata": {},
   "source": [
    "#### Task 13:  \n",
    "Create a new column with a 1 if the country's % Renewable value is at or above the median for all countries in the top 15, and a 0 if the country's % Renewable value is below the median.\n",
    "This function should return a series whose index is the country name sorted in ascending order of rank."
   ]
  },
  {
   "cell_type": "code",
   "execution_count": 53,
   "id": "5cdd3ced",
   "metadata": {},
   "outputs": [
    {
     "name": "stdout",
     "output_type": "stream",
     "text": [
      "Country\n",
      "China                 1\n",
      "United States         0\n",
      "Japan                 0\n",
      "United Kingdom        0\n",
      "Russian Federation    1\n",
      "Canada                1\n",
      "Germany               1\n",
      "India                 0\n",
      "France                1\n",
      "South Korea           0\n",
      "Italy                 1\n",
      "Spain                 1\n",
      "Iran                  0\n",
      "Australia             0\n",
      "Brazil                1\n",
      "Name: High Renewables, dtype: int32\n"
     ]
    }
   ],
   "source": [
    "def task_thirteen():\n",
    "    merged_data.sort_values(by='Rank')\n",
    "    maiden =  merged_data['% Renewable'].nlargest(15).median() \n",
    "    merged_data['High Renewables'] = (merged_data['% Renewable'] >= maiden).astype(int)\n",
    "    return merged_data['High Renewables']\n",
    "\n",
    "print(task_thirteen())"
   ]
  },
  {
   "cell_type": "markdown",
   "id": "f062885b",
   "metadata": {},
   "source": [
    "#### Task 14:  \n",
    "Use the following dictionary to group the Countries by Continent, then create a DataFrame that displays the sample size (the number of countries in each continent bin), and the sum, mean, and std deviation for the estimated population of each country. <br>\n",
    "\n",
    "<code>ContinentDict = {'China':'Asia',\n",
    "                'United States':'North America',\n",
    "                'Japan':'Asia',\n",
    "                'United Kingdom':'Europe',\n",
    "                'Russian Federation':'Europe',\n",
    "                'Canada':'North America',\n",
    "                'Germany':'Europe',\n",
    "                'India':'Asia',\n",
    "                'France':'Europe',\n",
    "                'South Korea':'Asia',\n",
    "                'Italy':'Europe',\n",
    "                'Spain':'Europe',\n",
    "                'Iran':'Asia',\n",
    "                'Australia':'Australia',\n",
    "                'Brazil':'South America'} </code> <br>\n",
    "This function should return a DataFrame with index named Continent ['Asia', 'Australia', 'Europe', 'North America', 'South America'] and columns ['size', 'sum','mean', 'std']"
   ]
  },
  {
   "cell_type": "code",
   "execution_count": 52,
   "id": "a7252579",
   "metadata": {},
   "outputs": [
    {
     "data": {
      "text/html": [
       "<div>\n",
       "<style scoped>\n",
       "    .dataframe tbody tr th:only-of-type {\n",
       "        vertical-align: middle;\n",
       "    }\n",
       "\n",
       "    .dataframe tbody tr th {\n",
       "        vertical-align: top;\n",
       "    }\n",
       "\n",
       "    .dataframe thead th {\n",
       "        text-align: right;\n",
       "    }\n",
       "</style>\n",
       "<table border=\"1\" class=\"dataframe\">\n",
       "  <thead>\n",
       "    <tr style=\"text-align: right;\">\n",
       "      <th></th>\n",
       "      <th>size</th>\n",
       "      <th>sum</th>\n",
       "      <th>mean</th>\n",
       "      <th>std</th>\n",
       "    </tr>\n",
       "    <tr>\n",
       "      <th>Continent</th>\n",
       "      <th></th>\n",
       "      <th></th>\n",
       "      <th></th>\n",
       "      <th></th>\n",
       "    </tr>\n",
       "  </thead>\n",
       "  <tbody>\n",
       "    <tr>\n",
       "      <th>Asia</th>\n",
       "      <td>5</td>\n",
       "      <td>2898666386.611</td>\n",
       "      <td>579733277.322</td>\n",
       "      <td>679097888.366</td>\n",
       "    </tr>\n",
       "    <tr>\n",
       "      <th>Australia</th>\n",
       "      <td>1</td>\n",
       "      <td>23316017.316</td>\n",
       "      <td>23316017.316</td>\n",
       "      <td>NaN</td>\n",
       "    </tr>\n",
       "    <tr>\n",
       "      <th>Europe</th>\n",
       "      <td>6</td>\n",
       "      <td>457929667.216</td>\n",
       "      <td>76321611.203</td>\n",
       "      <td>34647667.066</td>\n",
       "    </tr>\n",
       "    <tr>\n",
       "      <th>North America</th>\n",
       "      <td>2</td>\n",
       "      <td>352855249.480</td>\n",
       "      <td>176427624.740</td>\n",
       "      <td>199669644.857</td>\n",
       "    </tr>\n",
       "    <tr>\n",
       "      <th>South America</th>\n",
       "      <td>1</td>\n",
       "      <td>205915254.237</td>\n",
       "      <td>205915254.237</td>\n",
       "      <td>NaN</td>\n",
       "    </tr>\n",
       "  </tbody>\n",
       "</table>\n",
       "</div>"
      ],
      "text/plain": [
       "               size            sum          mean           std\n",
       "Continent                                                     \n",
       "Asia              5 2898666386.611 579733277.322 679097888.366\n",
       "Australia         1   23316017.316  23316017.316           NaN\n",
       "Europe            6  457929667.216  76321611.203  34647667.066\n",
       "North America     2  352855249.480 176427624.740 199669644.857\n",
       "South America     1  205915254.237 205915254.237           NaN"
      ]
     },
     "metadata": {},
     "output_type": "display_data"
    }
   ],
   "source": [
    "ContinentDict  = {'China':'Asia',  \n",
    "'United States':'North America',  \n",
    "'Japan':'Asia',  \n",
    "'United Kingdom':'Europe',  \n",
    "'Russian Federation':'Europe',  \n",
    "'Canada':'North America',  \n",
    "'Germany':'Europe',  \n",
    "'India':'Asia', \n",
    "'France':'Europe',  \n",
    "'South Korea':'Asia',  \n",
    "'Italy':'Europe',  \n",
    "'Spain':'Europe',  \n",
    "'Iran':'Asia', \n",
    "'Australia':'Australia',  \n",
    "'Brazil':'South America'}\n",
    "def task_forteen():\n",
    "    merged_data['Continent'] = merged_data.index.map(ContinentDict)\n",
    "    resultDf = merged_data.groupby('Continent').agg(\n",
    "                    size = pd.NamedAgg(column='population estimation', aggfunc='count'),\n",
    "                    sum = pd.NamedAgg(column='population estimation', aggfunc='sum'),\n",
    "                    mean = pd.NamedAgg(column='population estimation', aggfunc='mean'),\n",
    "                    std = pd.NamedAgg(column='population estimation', aggfunc='std'),\n",
    "    )\n",
    "    return resultDf\n",
    "\n",
    "display(task_forteen())"
   ]
  },
  {
   "cell_type": "markdown",
   "id": "9bc7eafc",
   "metadata": {},
   "source": [
    "#### Task 15:  \n",
    "Create a bubble chart showing % Renewable vs. Rank. The size of the bubble corresponds to the countries' 2015 GDP, and the color corresponds to the continent"
   ]
  },
  {
   "cell_type": "code",
   "execution_count": 49,
   "id": "cac61bc4",
   "metadata": {},
   "outputs": [
    {
     "data": {
      "application/vnd.plotly.v1+json": {
       "config": {
        "plotlyServerURL": "https://plot.ly"
       },
       "data": [
        {
         "hovertemplate": "<b>%{hovertext}</b><br><br>Continent=Asia<br>Rank=%{x}<br>% Renewable=%{y}<br>2015=%{marker.size}<br>Country=%{text}<extra></extra>",
         "hovertext": [
          "China",
          "Japan",
          "India",
          "South Korea",
          "Iran"
         ],
         "legendgroup": "Asia",
         "marker": {
          "color": "#636efa",
          "size": [
           8797998940421.28,
           5669563143140.97,
           2367206118959.06,
           1266580410309.11,
           0
          ],
          "sizemode": "area",
          "sizeref": 4596825910.638889,
          "symbol": "circle"
         },
         "mode": "markers+text",
         "name": "Asia",
         "orientation": "v",
         "showlegend": true,
         "text": [
          "China",
          "Japan",
          "India",
          "South Korea",
          "Iran"
         ],
         "type": "scatter",
         "x": [
          1,
          3,
          8,
          10,
          13
         ],
         "xaxis": "x",
         "y": [
          19.75491,
          10.23282,
          14.96908,
          2.279353,
          5.707721
         ],
         "yaxis": "y"
        },
        {
         "hovertemplate": "<b>%{hovertext}</b><br><br>Continent=North America<br>Rank=%{x}<br>% Renewable=%{y}<br>2015=%{marker.size}<br>Country=%{text}<extra></extra>",
         "hovertext": [
          "United States",
          "Canada"
         ],
         "legendgroup": "North America",
         "marker": {
          "color": "#EF553B",
          "size": [
           16548573278300,
           1792608764608.81
          ],
          "sizemode": "area",
          "sizeref": 4596825910.638889,
          "symbol": "circle"
         },
         "mode": "markers+text",
         "name": "North America",
         "orientation": "v",
         "showlegend": true,
         "text": [
          "United States",
          "Canada"
         ],
         "type": "scatter",
         "x": [
          2,
          6
         ],
         "xaxis": "x",
         "y": [
          11.57098,
          61.94543
         ],
         "yaxis": "y"
        },
        {
         "hovertemplate": "<b>%{hovertext}</b><br><br>Continent=Europe<br>Rank=%{x}<br>% Renewable=%{y}<br>2015=%{marker.size}<br>Country=%{text}<extra></extra>",
         "hovertext": [
          "United Kingdom",
          "Russian Federation",
          "Germany",
          "France",
          "Italy",
          "Spain"
         ],
         "legendgroup": "Europe",
         "marker": {
          "color": "#00cc96",
          "size": [
           2666333396477.13,
           1616148858033.77,
           3685555907284.77,
           2761185430463.58,
           2049315603576.16,
           1419821192052.98
          ],
          "sizemode": "area",
          "sizeref": 4596825910.638889,
          "symbol": "circle"
         },
         "mode": "markers+text",
         "name": "Europe",
         "orientation": "v",
         "showlegend": true,
         "text": [
          "United Kingdom",
          "Russian Federation",
          "Germany",
          "France",
          "Italy",
          "Spain"
         ],
         "type": "scatter",
         "x": [
          4,
          5,
          7,
          9,
          11,
          12
         ],
         "xaxis": "x",
         "y": [
          10.60047,
          17.28868,
          17.90153,
          17.02028,
          33.66723,
          37.96859
         ],
         "yaxis": "y"
        },
        {
         "hovertemplate": "<b>%{hovertext}</b><br><br>Continent=Australia<br>Rank=%{x}<br>% Renewable=%{y}<br>2015=%{marker.size}<br>Country=%{text}<extra></extra>",
         "hovertext": [
          "Australia"
         ],
         "legendgroup": "Australia",
         "marker": {
          "color": "#ab63fa",
          "size": [
           1301251030445.66
          ],
          "sizemode": "area",
          "sizeref": 4596825910.638889,
          "symbol": "circle"
         },
         "mode": "markers+text",
         "name": "Australia",
         "orientation": "v",
         "showlegend": true,
         "text": [
          "Australia"
         ],
         "type": "scatter",
         "x": [
          14
         ],
         "xaxis": "x",
         "y": [
          11.81081
         ],
         "yaxis": "y"
        },
        {
         "hovertemplate": "<b>%{hovertext}</b><br><br>Continent=South America<br>Rank=%{x}<br>% Renewable=%{y}<br>2015=%{marker.size}<br>Country=%{text}<extra></extra>",
         "hovertext": [
          "Brazil"
         ],
         "legendgroup": "South America",
         "marker": {
          "color": "#FFA15A",
          "size": [
           2319423390494.13
          ],
          "sizemode": "area",
          "sizeref": 4596825910.638889,
          "symbol": "circle"
         },
         "mode": "markers+text",
         "name": "South America",
         "orientation": "v",
         "showlegend": true,
         "text": [
          "Brazil"
         ],
         "type": "scatter",
         "x": [
          15
         ],
         "xaxis": "x",
         "y": [
          69.64803
         ],
         "yaxis": "y"
        }
       ],
       "layout": {
        "legend": {
         "itemsizing": "constant",
         "title": {
          "text": "Continent"
         },
         "tracegroupgap": 0
        },
        "margin": {
         "t": 60
        },
        "template": {
         "data": {
          "bar": [
           {
            "error_x": {
             "color": "#2a3f5f"
            },
            "error_y": {
             "color": "#2a3f5f"
            },
            "marker": {
             "line": {
              "color": "#E5ECF6",
              "width": 0.5
             },
             "pattern": {
              "fillmode": "overlay",
              "size": 10,
              "solidity": 0.2
             }
            },
            "type": "bar"
           }
          ],
          "barpolar": [
           {
            "marker": {
             "line": {
              "color": "#E5ECF6",
              "width": 0.5
             },
             "pattern": {
              "fillmode": "overlay",
              "size": 10,
              "solidity": 0.2
             }
            },
            "type": "barpolar"
           }
          ],
          "carpet": [
           {
            "aaxis": {
             "endlinecolor": "#2a3f5f",
             "gridcolor": "white",
             "linecolor": "white",
             "minorgridcolor": "white",
             "startlinecolor": "#2a3f5f"
            },
            "baxis": {
             "endlinecolor": "#2a3f5f",
             "gridcolor": "white",
             "linecolor": "white",
             "minorgridcolor": "white",
             "startlinecolor": "#2a3f5f"
            },
            "type": "carpet"
           }
          ],
          "choropleth": [
           {
            "colorbar": {
             "outlinewidth": 0,
             "ticks": ""
            },
            "type": "choropleth"
           }
          ],
          "contour": [
           {
            "colorbar": {
             "outlinewidth": 0,
             "ticks": ""
            },
            "colorscale": [
             [
              0,
              "#0d0887"
             ],
             [
              0.1111111111111111,
              "#46039f"
             ],
             [
              0.2222222222222222,
              "#7201a8"
             ],
             [
              0.3333333333333333,
              "#9c179e"
             ],
             [
              0.4444444444444444,
              "#bd3786"
             ],
             [
              0.5555555555555556,
              "#d8576b"
             ],
             [
              0.6666666666666666,
              "#ed7953"
             ],
             [
              0.7777777777777778,
              "#fb9f3a"
             ],
             [
              0.8888888888888888,
              "#fdca26"
             ],
             [
              1,
              "#f0f921"
             ]
            ],
            "type": "contour"
           }
          ],
          "contourcarpet": [
           {
            "colorbar": {
             "outlinewidth": 0,
             "ticks": ""
            },
            "type": "contourcarpet"
           }
          ],
          "heatmap": [
           {
            "colorbar": {
             "outlinewidth": 0,
             "ticks": ""
            },
            "colorscale": [
             [
              0,
              "#0d0887"
             ],
             [
              0.1111111111111111,
              "#46039f"
             ],
             [
              0.2222222222222222,
              "#7201a8"
             ],
             [
              0.3333333333333333,
              "#9c179e"
             ],
             [
              0.4444444444444444,
              "#bd3786"
             ],
             [
              0.5555555555555556,
              "#d8576b"
             ],
             [
              0.6666666666666666,
              "#ed7953"
             ],
             [
              0.7777777777777778,
              "#fb9f3a"
             ],
             [
              0.8888888888888888,
              "#fdca26"
             ],
             [
              1,
              "#f0f921"
             ]
            ],
            "type": "heatmap"
           }
          ],
          "heatmapgl": [
           {
            "colorbar": {
             "outlinewidth": 0,
             "ticks": ""
            },
            "colorscale": [
             [
              0,
              "#0d0887"
             ],
             [
              0.1111111111111111,
              "#46039f"
             ],
             [
              0.2222222222222222,
              "#7201a8"
             ],
             [
              0.3333333333333333,
              "#9c179e"
             ],
             [
              0.4444444444444444,
              "#bd3786"
             ],
             [
              0.5555555555555556,
              "#d8576b"
             ],
             [
              0.6666666666666666,
              "#ed7953"
             ],
             [
              0.7777777777777778,
              "#fb9f3a"
             ],
             [
              0.8888888888888888,
              "#fdca26"
             ],
             [
              1,
              "#f0f921"
             ]
            ],
            "type": "heatmapgl"
           }
          ],
          "histogram": [
           {
            "marker": {
             "pattern": {
              "fillmode": "overlay",
              "size": 10,
              "solidity": 0.2
             }
            },
            "type": "histogram"
           }
          ],
          "histogram2d": [
           {
            "colorbar": {
             "outlinewidth": 0,
             "ticks": ""
            },
            "colorscale": [
             [
              0,
              "#0d0887"
             ],
             [
              0.1111111111111111,
              "#46039f"
             ],
             [
              0.2222222222222222,
              "#7201a8"
             ],
             [
              0.3333333333333333,
              "#9c179e"
             ],
             [
              0.4444444444444444,
              "#bd3786"
             ],
             [
              0.5555555555555556,
              "#d8576b"
             ],
             [
              0.6666666666666666,
              "#ed7953"
             ],
             [
              0.7777777777777778,
              "#fb9f3a"
             ],
             [
              0.8888888888888888,
              "#fdca26"
             ],
             [
              1,
              "#f0f921"
             ]
            ],
            "type": "histogram2d"
           }
          ],
          "histogram2dcontour": [
           {
            "colorbar": {
             "outlinewidth": 0,
             "ticks": ""
            },
            "colorscale": [
             [
              0,
              "#0d0887"
             ],
             [
              0.1111111111111111,
              "#46039f"
             ],
             [
              0.2222222222222222,
              "#7201a8"
             ],
             [
              0.3333333333333333,
              "#9c179e"
             ],
             [
              0.4444444444444444,
              "#bd3786"
             ],
             [
              0.5555555555555556,
              "#d8576b"
             ],
             [
              0.6666666666666666,
              "#ed7953"
             ],
             [
              0.7777777777777778,
              "#fb9f3a"
             ],
             [
              0.8888888888888888,
              "#fdca26"
             ],
             [
              1,
              "#f0f921"
             ]
            ],
            "type": "histogram2dcontour"
           }
          ],
          "mesh3d": [
           {
            "colorbar": {
             "outlinewidth": 0,
             "ticks": ""
            },
            "type": "mesh3d"
           }
          ],
          "parcoords": [
           {
            "line": {
             "colorbar": {
              "outlinewidth": 0,
              "ticks": ""
             }
            },
            "type": "parcoords"
           }
          ],
          "pie": [
           {
            "automargin": true,
            "type": "pie"
           }
          ],
          "scatter": [
           {
            "fillpattern": {
             "fillmode": "overlay",
             "size": 10,
             "solidity": 0.2
            },
            "type": "scatter"
           }
          ],
          "scatter3d": [
           {
            "line": {
             "colorbar": {
              "outlinewidth": 0,
              "ticks": ""
             }
            },
            "marker": {
             "colorbar": {
              "outlinewidth": 0,
              "ticks": ""
             }
            },
            "type": "scatter3d"
           }
          ],
          "scattercarpet": [
           {
            "marker": {
             "colorbar": {
              "outlinewidth": 0,
              "ticks": ""
             }
            },
            "type": "scattercarpet"
           }
          ],
          "scattergeo": [
           {
            "marker": {
             "colorbar": {
              "outlinewidth": 0,
              "ticks": ""
             }
            },
            "type": "scattergeo"
           }
          ],
          "scattergl": [
           {
            "marker": {
             "colorbar": {
              "outlinewidth": 0,
              "ticks": ""
             }
            },
            "type": "scattergl"
           }
          ],
          "scattermapbox": [
           {
            "marker": {
             "colorbar": {
              "outlinewidth": 0,
              "ticks": ""
             }
            },
            "type": "scattermapbox"
           }
          ],
          "scatterpolar": [
           {
            "marker": {
             "colorbar": {
              "outlinewidth": 0,
              "ticks": ""
             }
            },
            "type": "scatterpolar"
           }
          ],
          "scatterpolargl": [
           {
            "marker": {
             "colorbar": {
              "outlinewidth": 0,
              "ticks": ""
             }
            },
            "type": "scatterpolargl"
           }
          ],
          "scatterternary": [
           {
            "marker": {
             "colorbar": {
              "outlinewidth": 0,
              "ticks": ""
             }
            },
            "type": "scatterternary"
           }
          ],
          "surface": [
           {
            "colorbar": {
             "outlinewidth": 0,
             "ticks": ""
            },
            "colorscale": [
             [
              0,
              "#0d0887"
             ],
             [
              0.1111111111111111,
              "#46039f"
             ],
             [
              0.2222222222222222,
              "#7201a8"
             ],
             [
              0.3333333333333333,
              "#9c179e"
             ],
             [
              0.4444444444444444,
              "#bd3786"
             ],
             [
              0.5555555555555556,
              "#d8576b"
             ],
             [
              0.6666666666666666,
              "#ed7953"
             ],
             [
              0.7777777777777778,
              "#fb9f3a"
             ],
             [
              0.8888888888888888,
              "#fdca26"
             ],
             [
              1,
              "#f0f921"
             ]
            ],
            "type": "surface"
           }
          ],
          "table": [
           {
            "cells": {
             "fill": {
              "color": "#EBF0F8"
             },
             "line": {
              "color": "white"
             }
            },
            "header": {
             "fill": {
              "color": "#C8D4E3"
             },
             "line": {
              "color": "white"
             }
            },
            "type": "table"
           }
          ]
         },
         "layout": {
          "annotationdefaults": {
           "arrowcolor": "#2a3f5f",
           "arrowhead": 0,
           "arrowwidth": 1
          },
          "autotypenumbers": "strict",
          "coloraxis": {
           "colorbar": {
            "outlinewidth": 0,
            "ticks": ""
           }
          },
          "colorscale": {
           "diverging": [
            [
             0,
             "#8e0152"
            ],
            [
             0.1,
             "#c51b7d"
            ],
            [
             0.2,
             "#de77ae"
            ],
            [
             0.3,
             "#f1b6da"
            ],
            [
             0.4,
             "#fde0ef"
            ],
            [
             0.5,
             "#f7f7f7"
            ],
            [
             0.6,
             "#e6f5d0"
            ],
            [
             0.7,
             "#b8e186"
            ],
            [
             0.8,
             "#7fbc41"
            ],
            [
             0.9,
             "#4d9221"
            ],
            [
             1,
             "#276419"
            ]
           ],
           "sequential": [
            [
             0,
             "#0d0887"
            ],
            [
             0.1111111111111111,
             "#46039f"
            ],
            [
             0.2222222222222222,
             "#7201a8"
            ],
            [
             0.3333333333333333,
             "#9c179e"
            ],
            [
             0.4444444444444444,
             "#bd3786"
            ],
            [
             0.5555555555555556,
             "#d8576b"
            ],
            [
             0.6666666666666666,
             "#ed7953"
            ],
            [
             0.7777777777777778,
             "#fb9f3a"
            ],
            [
             0.8888888888888888,
             "#fdca26"
            ],
            [
             1,
             "#f0f921"
            ]
           ],
           "sequentialminus": [
            [
             0,
             "#0d0887"
            ],
            [
             0.1111111111111111,
             "#46039f"
            ],
            [
             0.2222222222222222,
             "#7201a8"
            ],
            [
             0.3333333333333333,
             "#9c179e"
            ],
            [
             0.4444444444444444,
             "#bd3786"
            ],
            [
             0.5555555555555556,
             "#d8576b"
            ],
            [
             0.6666666666666666,
             "#ed7953"
            ],
            [
             0.7777777777777778,
             "#fb9f3a"
            ],
            [
             0.8888888888888888,
             "#fdca26"
            ],
            [
             1,
             "#f0f921"
            ]
           ]
          },
          "colorway": [
           "#636efa",
           "#EF553B",
           "#00cc96",
           "#ab63fa",
           "#FFA15A",
           "#19d3f3",
           "#FF6692",
           "#B6E880",
           "#FF97FF",
           "#FECB52"
          ],
          "font": {
           "color": "#2a3f5f"
          },
          "geo": {
           "bgcolor": "white",
           "lakecolor": "white",
           "landcolor": "#E5ECF6",
           "showlakes": true,
           "showland": true,
           "subunitcolor": "white"
          },
          "hoverlabel": {
           "align": "left"
          },
          "hovermode": "closest",
          "mapbox": {
           "style": "light"
          },
          "paper_bgcolor": "white",
          "plot_bgcolor": "#E5ECF6",
          "polar": {
           "angularaxis": {
            "gridcolor": "white",
            "linecolor": "white",
            "ticks": ""
           },
           "bgcolor": "#E5ECF6",
           "radialaxis": {
            "gridcolor": "white",
            "linecolor": "white",
            "ticks": ""
           }
          },
          "scene": {
           "xaxis": {
            "backgroundcolor": "#E5ECF6",
            "gridcolor": "white",
            "gridwidth": 2,
            "linecolor": "white",
            "showbackground": true,
            "ticks": "",
            "zerolinecolor": "white"
           },
           "yaxis": {
            "backgroundcolor": "#E5ECF6",
            "gridcolor": "white",
            "gridwidth": 2,
            "linecolor": "white",
            "showbackground": true,
            "ticks": "",
            "zerolinecolor": "white"
           },
           "zaxis": {
            "backgroundcolor": "#E5ECF6",
            "gridcolor": "white",
            "gridwidth": 2,
            "linecolor": "white",
            "showbackground": true,
            "ticks": "",
            "zerolinecolor": "white"
           }
          },
          "shapedefaults": {
           "line": {
            "color": "#2a3f5f"
           }
          },
          "ternary": {
           "aaxis": {
            "gridcolor": "white",
            "linecolor": "white",
            "ticks": ""
           },
           "baxis": {
            "gridcolor": "white",
            "linecolor": "white",
            "ticks": ""
           },
           "bgcolor": "#E5ECF6",
           "caxis": {
            "gridcolor": "white",
            "linecolor": "white",
            "ticks": ""
           }
          },
          "title": {
           "x": 0.05
          },
          "xaxis": {
           "automargin": true,
           "gridcolor": "white",
           "linecolor": "white",
           "ticks": "",
           "title": {
            "standoff": 15
           },
           "zerolinecolor": "white",
           "zerolinewidth": 2
          },
          "yaxis": {
           "automargin": true,
           "gridcolor": "white",
           "linecolor": "white",
           "ticks": "",
           "title": {
            "standoff": 15
           },
           "zerolinecolor": "white",
           "zerolinewidth": 2
          }
         }
        },
        "xaxis": {
         "anchor": "y",
         "domain": [
          0,
          1
         ],
         "title": {
          "text": "Rank"
         }
        },
        "yaxis": {
         "anchor": "x",
         "domain": [
          0,
          1
         ],
         "title": {
          "text": "% Renewable"
         }
        }
       }
      },
      "text/html": [
       "<div>                            <div id=\"3f6feb79-cfd3-4e90-93a0-4c18751ec37d\" class=\"plotly-graph-div\" style=\"height:525px; width:100%;\"></div>            <script type=\"text/javascript\">                require([\"plotly\"], function(Plotly) {                    window.PLOTLYENV=window.PLOTLYENV || {};                                    if (document.getElementById(\"3f6feb79-cfd3-4e90-93a0-4c18751ec37d\")) {                    Plotly.newPlot(                        \"3f6feb79-cfd3-4e90-93a0-4c18751ec37d\",                        [{\"hovertemplate\":\"\\u003cb\\u003e%{hovertext}\\u003c\\u002fb\\u003e\\u003cbr\\u003e\\u003cbr\\u003eContinent=Asia\\u003cbr\\u003eRank=%{x}\\u003cbr\\u003e% Renewable=%{y}\\u003cbr\\u003e2015=%{marker.size}\\u003cbr\\u003eCountry=%{text}\\u003cextra\\u003e\\u003c\\u002fextra\\u003e\",\"hovertext\":[\"China\",\"Japan\",\"India\",\"South Korea\",\"Iran\"],\"legendgroup\":\"Asia\",\"marker\":{\"color\":\"#636efa\",\"size\":[8797998940421.28,5669563143140.97,2367206118959.06,1266580410309.11,0.0],\"sizemode\":\"area\",\"sizeref\":4596825910.638889,\"symbol\":\"circle\"},\"mode\":\"markers+text\",\"name\":\"Asia\",\"orientation\":\"v\",\"showlegend\":true,\"text\":[\"China\",\"Japan\",\"India\",\"South Korea\",\"Iran\"],\"x\":[1,3,8,10,13],\"xaxis\":\"x\",\"y\":[19.75491,10.23282,14.96908,2.279353,5.707721],\"yaxis\":\"y\",\"type\":\"scatter\"},{\"hovertemplate\":\"\\u003cb\\u003e%{hovertext}\\u003c\\u002fb\\u003e\\u003cbr\\u003e\\u003cbr\\u003eContinent=North America\\u003cbr\\u003eRank=%{x}\\u003cbr\\u003e% Renewable=%{y}\\u003cbr\\u003e2015=%{marker.size}\\u003cbr\\u003eCountry=%{text}\\u003cextra\\u003e\\u003c\\u002fextra\\u003e\",\"hovertext\":[\"United States\",\"Canada\"],\"legendgroup\":\"North America\",\"marker\":{\"color\":\"#EF553B\",\"size\":[16548573278300.0,1792608764608.81],\"sizemode\":\"area\",\"sizeref\":4596825910.638889,\"symbol\":\"circle\"},\"mode\":\"markers+text\",\"name\":\"North America\",\"orientation\":\"v\",\"showlegend\":true,\"text\":[\"United States\",\"Canada\"],\"x\":[2,6],\"xaxis\":\"x\",\"y\":[11.57098,61.94543],\"yaxis\":\"y\",\"type\":\"scatter\"},{\"hovertemplate\":\"\\u003cb\\u003e%{hovertext}\\u003c\\u002fb\\u003e\\u003cbr\\u003e\\u003cbr\\u003eContinent=Europe\\u003cbr\\u003eRank=%{x}\\u003cbr\\u003e% Renewable=%{y}\\u003cbr\\u003e2015=%{marker.size}\\u003cbr\\u003eCountry=%{text}\\u003cextra\\u003e\\u003c\\u002fextra\\u003e\",\"hovertext\":[\"United Kingdom\",\"Russian Federation\",\"Germany\",\"France\",\"Italy\",\"Spain\"],\"legendgroup\":\"Europe\",\"marker\":{\"color\":\"#00cc96\",\"size\":[2666333396477.13,1616148858033.77,3685555907284.77,2761185430463.58,2049315603576.16,1419821192052.98],\"sizemode\":\"area\",\"sizeref\":4596825910.638889,\"symbol\":\"circle\"},\"mode\":\"markers+text\",\"name\":\"Europe\",\"orientation\":\"v\",\"showlegend\":true,\"text\":[\"United Kingdom\",\"Russian Federation\",\"Germany\",\"France\",\"Italy\",\"Spain\"],\"x\":[4,5,7,9,11,12],\"xaxis\":\"x\",\"y\":[10.60047,17.28868,17.90153,17.02028,33.66723,37.96859],\"yaxis\":\"y\",\"type\":\"scatter\"},{\"hovertemplate\":\"\\u003cb\\u003e%{hovertext}\\u003c\\u002fb\\u003e\\u003cbr\\u003e\\u003cbr\\u003eContinent=Australia\\u003cbr\\u003eRank=%{x}\\u003cbr\\u003e% Renewable=%{y}\\u003cbr\\u003e2015=%{marker.size}\\u003cbr\\u003eCountry=%{text}\\u003cextra\\u003e\\u003c\\u002fextra\\u003e\",\"hovertext\":[\"Australia\"],\"legendgroup\":\"Australia\",\"marker\":{\"color\":\"#ab63fa\",\"size\":[1301251030445.66],\"sizemode\":\"area\",\"sizeref\":4596825910.638889,\"symbol\":\"circle\"},\"mode\":\"markers+text\",\"name\":\"Australia\",\"orientation\":\"v\",\"showlegend\":true,\"text\":[\"Australia\"],\"x\":[14],\"xaxis\":\"x\",\"y\":[11.81081],\"yaxis\":\"y\",\"type\":\"scatter\"},{\"hovertemplate\":\"\\u003cb\\u003e%{hovertext}\\u003c\\u002fb\\u003e\\u003cbr\\u003e\\u003cbr\\u003eContinent=South America\\u003cbr\\u003eRank=%{x}\\u003cbr\\u003e% Renewable=%{y}\\u003cbr\\u003e2015=%{marker.size}\\u003cbr\\u003eCountry=%{text}\\u003cextra\\u003e\\u003c\\u002fextra\\u003e\",\"hovertext\":[\"Brazil\"],\"legendgroup\":\"South America\",\"marker\":{\"color\":\"#FFA15A\",\"size\":[2319423390494.13],\"sizemode\":\"area\",\"sizeref\":4596825910.638889,\"symbol\":\"circle\"},\"mode\":\"markers+text\",\"name\":\"South America\",\"orientation\":\"v\",\"showlegend\":true,\"text\":[\"Brazil\"],\"x\":[15],\"xaxis\":\"x\",\"y\":[69.64803],\"yaxis\":\"y\",\"type\":\"scatter\"}],                        {\"template\":{\"data\":{\"histogram2dcontour\":[{\"type\":\"histogram2dcontour\",\"colorbar\":{\"outlinewidth\":0,\"ticks\":\"\"},\"colorscale\":[[0.0,\"#0d0887\"],[0.1111111111111111,\"#46039f\"],[0.2222222222222222,\"#7201a8\"],[0.3333333333333333,\"#9c179e\"],[0.4444444444444444,\"#bd3786\"],[0.5555555555555556,\"#d8576b\"],[0.6666666666666666,\"#ed7953\"],[0.7777777777777778,\"#fb9f3a\"],[0.8888888888888888,\"#fdca26\"],[1.0,\"#f0f921\"]]}],\"choropleth\":[{\"type\":\"choropleth\",\"colorbar\":{\"outlinewidth\":0,\"ticks\":\"\"}}],\"histogram2d\":[{\"type\":\"histogram2d\",\"colorbar\":{\"outlinewidth\":0,\"ticks\":\"\"},\"colorscale\":[[0.0,\"#0d0887\"],[0.1111111111111111,\"#46039f\"],[0.2222222222222222,\"#7201a8\"],[0.3333333333333333,\"#9c179e\"],[0.4444444444444444,\"#bd3786\"],[0.5555555555555556,\"#d8576b\"],[0.6666666666666666,\"#ed7953\"],[0.7777777777777778,\"#fb9f3a\"],[0.8888888888888888,\"#fdca26\"],[1.0,\"#f0f921\"]]}],\"heatmap\":[{\"type\":\"heatmap\",\"colorbar\":{\"outlinewidth\":0,\"ticks\":\"\"},\"colorscale\":[[0.0,\"#0d0887\"],[0.1111111111111111,\"#46039f\"],[0.2222222222222222,\"#7201a8\"],[0.3333333333333333,\"#9c179e\"],[0.4444444444444444,\"#bd3786\"],[0.5555555555555556,\"#d8576b\"],[0.6666666666666666,\"#ed7953\"],[0.7777777777777778,\"#fb9f3a\"],[0.8888888888888888,\"#fdca26\"],[1.0,\"#f0f921\"]]}],\"heatmapgl\":[{\"type\":\"heatmapgl\",\"colorbar\":{\"outlinewidth\":0,\"ticks\":\"\"},\"colorscale\":[[0.0,\"#0d0887\"],[0.1111111111111111,\"#46039f\"],[0.2222222222222222,\"#7201a8\"],[0.3333333333333333,\"#9c179e\"],[0.4444444444444444,\"#bd3786\"],[0.5555555555555556,\"#d8576b\"],[0.6666666666666666,\"#ed7953\"],[0.7777777777777778,\"#fb9f3a\"],[0.8888888888888888,\"#fdca26\"],[1.0,\"#f0f921\"]]}],\"contourcarpet\":[{\"type\":\"contourcarpet\",\"colorbar\":{\"outlinewidth\":0,\"ticks\":\"\"}}],\"contour\":[{\"type\":\"contour\",\"colorbar\":{\"outlinewidth\":0,\"ticks\":\"\"},\"colorscale\":[[0.0,\"#0d0887\"],[0.1111111111111111,\"#46039f\"],[0.2222222222222222,\"#7201a8\"],[0.3333333333333333,\"#9c179e\"],[0.4444444444444444,\"#bd3786\"],[0.5555555555555556,\"#d8576b\"],[0.6666666666666666,\"#ed7953\"],[0.7777777777777778,\"#fb9f3a\"],[0.8888888888888888,\"#fdca26\"],[1.0,\"#f0f921\"]]}],\"surface\":[{\"type\":\"surface\",\"colorbar\":{\"outlinewidth\":0,\"ticks\":\"\"},\"colorscale\":[[0.0,\"#0d0887\"],[0.1111111111111111,\"#46039f\"],[0.2222222222222222,\"#7201a8\"],[0.3333333333333333,\"#9c179e\"],[0.4444444444444444,\"#bd3786\"],[0.5555555555555556,\"#d8576b\"],[0.6666666666666666,\"#ed7953\"],[0.7777777777777778,\"#fb9f3a\"],[0.8888888888888888,\"#fdca26\"],[1.0,\"#f0f921\"]]}],\"mesh3d\":[{\"type\":\"mesh3d\",\"colorbar\":{\"outlinewidth\":0,\"ticks\":\"\"}}],\"scatter\":[{\"fillpattern\":{\"fillmode\":\"overlay\",\"size\":10,\"solidity\":0.2},\"type\":\"scatter\"}],\"parcoords\":[{\"type\":\"parcoords\",\"line\":{\"colorbar\":{\"outlinewidth\":0,\"ticks\":\"\"}}}],\"scatterpolargl\":[{\"type\":\"scatterpolargl\",\"marker\":{\"colorbar\":{\"outlinewidth\":0,\"ticks\":\"\"}}}],\"bar\":[{\"error_x\":{\"color\":\"#2a3f5f\"},\"error_y\":{\"color\":\"#2a3f5f\"},\"marker\":{\"line\":{\"color\":\"#E5ECF6\",\"width\":0.5},\"pattern\":{\"fillmode\":\"overlay\",\"size\":10,\"solidity\":0.2}},\"type\":\"bar\"}],\"scattergeo\":[{\"type\":\"scattergeo\",\"marker\":{\"colorbar\":{\"outlinewidth\":0,\"ticks\":\"\"}}}],\"scatterpolar\":[{\"type\":\"scatterpolar\",\"marker\":{\"colorbar\":{\"outlinewidth\":0,\"ticks\":\"\"}}}],\"histogram\":[{\"marker\":{\"pattern\":{\"fillmode\":\"overlay\",\"size\":10,\"solidity\":0.2}},\"type\":\"histogram\"}],\"scattergl\":[{\"type\":\"scattergl\",\"marker\":{\"colorbar\":{\"outlinewidth\":0,\"ticks\":\"\"}}}],\"scatter3d\":[{\"type\":\"scatter3d\",\"line\":{\"colorbar\":{\"outlinewidth\":0,\"ticks\":\"\"}},\"marker\":{\"colorbar\":{\"outlinewidth\":0,\"ticks\":\"\"}}}],\"scattermapbox\":[{\"type\":\"scattermapbox\",\"marker\":{\"colorbar\":{\"outlinewidth\":0,\"ticks\":\"\"}}}],\"scatterternary\":[{\"type\":\"scatterternary\",\"marker\":{\"colorbar\":{\"outlinewidth\":0,\"ticks\":\"\"}}}],\"scattercarpet\":[{\"type\":\"scattercarpet\",\"marker\":{\"colorbar\":{\"outlinewidth\":0,\"ticks\":\"\"}}}],\"carpet\":[{\"aaxis\":{\"endlinecolor\":\"#2a3f5f\",\"gridcolor\":\"white\",\"linecolor\":\"white\",\"minorgridcolor\":\"white\",\"startlinecolor\":\"#2a3f5f\"},\"baxis\":{\"endlinecolor\":\"#2a3f5f\",\"gridcolor\":\"white\",\"linecolor\":\"white\",\"minorgridcolor\":\"white\",\"startlinecolor\":\"#2a3f5f\"},\"type\":\"carpet\"}],\"table\":[{\"cells\":{\"fill\":{\"color\":\"#EBF0F8\"},\"line\":{\"color\":\"white\"}},\"header\":{\"fill\":{\"color\":\"#C8D4E3\"},\"line\":{\"color\":\"white\"}},\"type\":\"table\"}],\"barpolar\":[{\"marker\":{\"line\":{\"color\":\"#E5ECF6\",\"width\":0.5},\"pattern\":{\"fillmode\":\"overlay\",\"size\":10,\"solidity\":0.2}},\"type\":\"barpolar\"}],\"pie\":[{\"automargin\":true,\"type\":\"pie\"}]},\"layout\":{\"autotypenumbers\":\"strict\",\"colorway\":[\"#636efa\",\"#EF553B\",\"#00cc96\",\"#ab63fa\",\"#FFA15A\",\"#19d3f3\",\"#FF6692\",\"#B6E880\",\"#FF97FF\",\"#FECB52\"],\"font\":{\"color\":\"#2a3f5f\"},\"hovermode\":\"closest\",\"hoverlabel\":{\"align\":\"left\"},\"paper_bgcolor\":\"white\",\"plot_bgcolor\":\"#E5ECF6\",\"polar\":{\"bgcolor\":\"#E5ECF6\",\"angularaxis\":{\"gridcolor\":\"white\",\"linecolor\":\"white\",\"ticks\":\"\"},\"radialaxis\":{\"gridcolor\":\"white\",\"linecolor\":\"white\",\"ticks\":\"\"}},\"ternary\":{\"bgcolor\":\"#E5ECF6\",\"aaxis\":{\"gridcolor\":\"white\",\"linecolor\":\"white\",\"ticks\":\"\"},\"baxis\":{\"gridcolor\":\"white\",\"linecolor\":\"white\",\"ticks\":\"\"},\"caxis\":{\"gridcolor\":\"white\",\"linecolor\":\"white\",\"ticks\":\"\"}},\"coloraxis\":{\"colorbar\":{\"outlinewidth\":0,\"ticks\":\"\"}},\"colorscale\":{\"sequential\":[[0.0,\"#0d0887\"],[0.1111111111111111,\"#46039f\"],[0.2222222222222222,\"#7201a8\"],[0.3333333333333333,\"#9c179e\"],[0.4444444444444444,\"#bd3786\"],[0.5555555555555556,\"#d8576b\"],[0.6666666666666666,\"#ed7953\"],[0.7777777777777778,\"#fb9f3a\"],[0.8888888888888888,\"#fdca26\"],[1.0,\"#f0f921\"]],\"sequentialminus\":[[0.0,\"#0d0887\"],[0.1111111111111111,\"#46039f\"],[0.2222222222222222,\"#7201a8\"],[0.3333333333333333,\"#9c179e\"],[0.4444444444444444,\"#bd3786\"],[0.5555555555555556,\"#d8576b\"],[0.6666666666666666,\"#ed7953\"],[0.7777777777777778,\"#fb9f3a\"],[0.8888888888888888,\"#fdca26\"],[1.0,\"#f0f921\"]],\"diverging\":[[0,\"#8e0152\"],[0.1,\"#c51b7d\"],[0.2,\"#de77ae\"],[0.3,\"#f1b6da\"],[0.4,\"#fde0ef\"],[0.5,\"#f7f7f7\"],[0.6,\"#e6f5d0\"],[0.7,\"#b8e186\"],[0.8,\"#7fbc41\"],[0.9,\"#4d9221\"],[1,\"#276419\"]]},\"xaxis\":{\"gridcolor\":\"white\",\"linecolor\":\"white\",\"ticks\":\"\",\"title\":{\"standoff\":15},\"zerolinecolor\":\"white\",\"automargin\":true,\"zerolinewidth\":2},\"yaxis\":{\"gridcolor\":\"white\",\"linecolor\":\"white\",\"ticks\":\"\",\"title\":{\"standoff\":15},\"zerolinecolor\":\"white\",\"automargin\":true,\"zerolinewidth\":2},\"scene\":{\"xaxis\":{\"backgroundcolor\":\"#E5ECF6\",\"gridcolor\":\"white\",\"linecolor\":\"white\",\"showbackground\":true,\"ticks\":\"\",\"zerolinecolor\":\"white\",\"gridwidth\":2},\"yaxis\":{\"backgroundcolor\":\"#E5ECF6\",\"gridcolor\":\"white\",\"linecolor\":\"white\",\"showbackground\":true,\"ticks\":\"\",\"zerolinecolor\":\"white\",\"gridwidth\":2},\"zaxis\":{\"backgroundcolor\":\"#E5ECF6\",\"gridcolor\":\"white\",\"linecolor\":\"white\",\"showbackground\":true,\"ticks\":\"\",\"zerolinecolor\":\"white\",\"gridwidth\":2}},\"shapedefaults\":{\"line\":{\"color\":\"#2a3f5f\"}},\"annotationdefaults\":{\"arrowcolor\":\"#2a3f5f\",\"arrowhead\":0,\"arrowwidth\":1},\"geo\":{\"bgcolor\":\"white\",\"landcolor\":\"#E5ECF6\",\"subunitcolor\":\"white\",\"showland\":true,\"showlakes\":true,\"lakecolor\":\"white\"},\"title\":{\"x\":0.05},\"mapbox\":{\"style\":\"light\"}}},\"xaxis\":{\"anchor\":\"y\",\"domain\":[0.0,1.0],\"title\":{\"text\":\"Rank\"}},\"yaxis\":{\"anchor\":\"x\",\"domain\":[0.0,1.0],\"title\":{\"text\":\"% Renewable\"}},\"legend\":{\"title\":{\"text\":\"Continent\"},\"tracegroupgap\":0,\"itemsizing\":\"constant\"},\"margin\":{\"t\":60}},                        {\"responsive\": true}                    ).then(function(){\n",
       "                            \n",
       "var gd = document.getElementById('3f6feb79-cfd3-4e90-93a0-4c18751ec37d');\n",
       "var x = new MutationObserver(function (mutations, observer) {{\n",
       "        var display = window.getComputedStyle(gd).display;\n",
       "        if (!display || display === 'none') {{\n",
       "            console.log([gd, 'removed!']);\n",
       "            Plotly.purge(gd);\n",
       "            observer.disconnect();\n",
       "        }}\n",
       "}});\n",
       "\n",
       "// Listen for the removal of the full notebook cells\n",
       "var notebookContainer = gd.closest('#notebook-container');\n",
       "if (notebookContainer) {{\n",
       "    x.observe(notebookContainer, {childList: true});\n",
       "}}\n",
       "\n",
       "// Listen for the clearing of the current output cell\n",
       "var outputEl = gd.closest('.output');\n",
       "if (outputEl) {{\n",
       "    x.observe(outputEl, {childList: true});\n",
       "}}\n",
       "\n",
       "                        })                };                });            </script>        </div>"
      ]
     },
     "metadata": {},
     "output_type": "display_data"
    }
   ],
   "source": [
    "import plotly.express as px\n",
    "merged_data['2015'] = merged_data['2015'].fillna(0)\n",
    "fig = px.scatter(merged_data, x='Rank', y='% Renewable', \n",
    "                 size='2015',\n",
    "                 color='Continent',\n",
    "                 hover_name=merged_data.index,\n",
    "                 size_max=60,\n",
    "                 text=merged_data.index\n",
    "                )\n",
    "fig.show()"
   ]
  },
  {
   "cell_type": "code",
   "execution_count": null,
   "id": "79d10b21",
   "metadata": {},
   "outputs": [],
   "source": []
  }
 ],
 "metadata": {
  "kernelspec": {
   "display_name": "Python 3 (ipykernel)",
   "language": "python",
   "name": "python3"
  },
  "language_info": {
   "codemirror_mode": {
    "name": "ipython",
    "version": 3
   },
   "file_extension": ".py",
   "mimetype": "text/x-python",
   "name": "python",
   "nbconvert_exporter": "python",
   "pygments_lexer": "ipython3",
   "version": "3.11.3"
  }
 },
 "nbformat": 4,
 "nbformat_minor": 5
}
